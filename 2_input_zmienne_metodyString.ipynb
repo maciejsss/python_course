{
 "metadata": {
  "language_info": {
   "codemirror_mode": {
    "name": "ipython",
    "version": 3
   },
   "file_extension": ".py",
   "mimetype": "text/x-python",
   "name": "python",
   "nbconvert_exporter": "python",
   "pygments_lexer": "ipython3",
   "version": "3.8.8"
  },
  "orig_nbformat": 4,
  "kernelspec": {
   "name": "python3",
   "display_name": "Python 3.8.8 64-bit ('base': conda)"
  },
  "interpreter": {
   "hash": "9179e28e3dd4a147429fcfc0a6299c7867ef5c5c33c52167b434be2401c7cc31"
  }
 },
 "nbformat": 4,
 "nbformat_minor": 2,
 "cells": [
  {
   "source": [
    "## Input"
   ],
   "cell_type": "markdown",
   "metadata": {}
  },
  {
   "cell_type": "code",
   "execution_count": 1,
   "metadata": {},
   "outputs": [
    {
     "output_type": "stream",
     "name": "stdout",
     "text": [
      "Cześć 2\n"
     ]
    }
   ],
   "source": [
    "imie = input('Podaj imie: ')\n",
    "print('Cześć {}'.format(imie))"
   ]
  },
  {
   "cell_type": "code",
   "execution_count": 2,
   "metadata": {},
   "outputs": [
    {
     "output_type": "stream",
     "name": "stdout",
     "text": [
      "Podano jezyk: 2\n"
     ]
    }
   ],
   "source": [
    "jezyk = input('jakiego jezyka chcesz sie nauczyc?')\n",
    "print('Podano jezyk: {}'.format(jezyk))"
   ]
  },
  {
   "cell_type": "code",
   "execution_count": 3,
   "metadata": {},
   "outputs": [
    {
     "output_type": "stream",
     "name": "stdout",
     "text": [
      "Cześć 2 masz 2 lat\n"
     ]
    }
   ],
   "source": [
    "imie = input('Podaj imie: ')\n",
    "age = int(input('Podaj wiek: '))\n",
    "\n",
    "print('Cześć {} masz {} lat'.format(imie,age))"
   ]
  },
  {
   "source": [
    "## Zmienne"
   ],
   "cell_type": "markdown",
   "metadata": {}
  },
  {
   "cell_type": "code",
   "execution_count": 10,
   "metadata": {},
   "outputs": [],
   "source": [
    "imie = 'Maciej'\n",
    "_imie = \"Maciej\"\n",
    "3imie  # tak nie można deklarować zmiennej"
   ]
  },
  {
   "cell_type": "code",
   "execution_count": 12,
   "metadata": {},
   "outputs": [
    {
     "output_type": "stream",
     "name": "stdout",
     "text": [
      "60\n"
     ]
    }
   ],
   "source": [
    "przepracowane_godziny = 3\n",
    "stawka_godzinowa = 20\n",
    "\n",
    "pensja = przepracowane_godziny * stawka_godzinowa\n",
    "print(pensja)"
   ]
  },
  {
   "cell_type": "code",
   "execution_count": 13,
   "metadata": {},
   "outputs": [
    {
     "output_type": "execute_result",
     "data": {
      "text/plain": [
       "['False',\n",
       " 'None',\n",
       " 'True',\n",
       " 'and',\n",
       " 'as',\n",
       " 'assert',\n",
       " 'async',\n",
       " 'await',\n",
       " 'break',\n",
       " 'class',\n",
       " 'continue',\n",
       " 'def',\n",
       " 'del',\n",
       " 'elif',\n",
       " 'else',\n",
       " 'except',\n",
       " 'finally',\n",
       " 'for',\n",
       " 'from',\n",
       " 'global',\n",
       " 'if',\n",
       " 'import',\n",
       " 'in',\n",
       " 'is',\n",
       " 'lambda',\n",
       " 'nonlocal',\n",
       " 'not',\n",
       " 'or',\n",
       " 'pass',\n",
       " 'raise',\n",
       " 'return',\n",
       " 'try',\n",
       " 'while',\n",
       " 'with',\n",
       " 'yield']"
      ]
     },
     "metadata": {},
     "execution_count": 13
    }
   ],
   "source": [
    "import keyword\n",
    "keyword.kwlist # nazwy których nie można używać"
   ]
  },
  {
   "source": [
    "## Operator wycinania"
   ],
   "cell_type": "markdown",
   "metadata": {}
  },
  {
   "cell_type": "code",
   "execution_count": 29,
   "metadata": {},
   "outputs": [
    {
     "output_type": "stream",
     "name": "stdout",
     "text": [
      "P\nPy\ntho\nn\nPyth\nthon\nPython\non\nnohtyP\n"
     ]
    }
   ],
   "source": [
    "name = 'Python'\n",
    "\n",
    "print(name[0])\n",
    "print(name[0:2])\n",
    "print(name[2:5]) # lewa wartosc wpaada, prawa nie\n",
    "print(name[-1]) # od końca\n",
    "print(name[:4])\n",
    "print(name[2:])\n",
    "print(name[:])\n",
    "print(name[-2:]) # 2 ostatnie elementy do końca\n",
    "print(name[::-1])\n",
    "\n"
   ]
  },
  {
   "cell_type": "code",
   "execution_count": 25,
   "metadata": {},
   "outputs": [
    {
     "output_type": "stream",
     "name": "stdout",
     "text": [
      "Programming\nPto rgamn\n"
     ]
    }
   ],
   "source": [
    "full = 'Python Programming'\n",
    "print(full[7:])\n",
    "print(full[::2]) #[start:stop:step]\n"
   ]
  },
  {
   "cell_type": "code",
   "execution_count": 26,
   "metadata": {},
   "outputs": [
    {
     "output_type": "stream",
     "name": "stdout",
     "text": [
      "###\n"
     ]
    }
   ],
   "source": [
    "sample = '#stop#this#flow'\n",
    "print(sample[::5])"
   ]
  },
  {
   "cell_type": "code",
   "execution_count": 32,
   "metadata": {},
   "outputs": [
    {
     "output_type": "stream",
     "name": "stdout",
     "text": [
      "True\nFalse\n"
     ]
    }
   ],
   "source": [
    "name= 'Python'\n",
    "print('P' in name)\n",
    "print('p' in name)"
   ]
  },
  {
   "cell_type": "code",
   "execution_count": 33,
   "metadata": {},
   "outputs": [
    {
     "output_type": "stream",
     "name": "stdout",
     "text": [
      "Python\n"
     ]
    }
   ],
   "source": [
    "text = '09023-Python-32'\n",
    "print(text[6:12])"
   ]
  },
  {
   "source": [
    "## Typy danych"
   ],
   "cell_type": "markdown",
   "metadata": {}
  },
  {
   "cell_type": "code",
   "execution_count": 34,
   "metadata": {},
   "outputs": [
    {
     "output_type": "execute_result",
     "data": {
      "text/plain": [
       "['__add__',\n",
       " '__class__',\n",
       " '__contains__',\n",
       " '__delattr__',\n",
       " '__dir__',\n",
       " '__doc__',\n",
       " '__eq__',\n",
       " '__format__',\n",
       " '__ge__',\n",
       " '__getattribute__',\n",
       " '__getitem__',\n",
       " '__getnewargs__',\n",
       " '__gt__',\n",
       " '__hash__',\n",
       " '__init__',\n",
       " '__init_subclass__',\n",
       " '__iter__',\n",
       " '__le__',\n",
       " '__len__',\n",
       " '__lt__',\n",
       " '__mod__',\n",
       " '__mul__',\n",
       " '__ne__',\n",
       " '__new__',\n",
       " '__reduce__',\n",
       " '__reduce_ex__',\n",
       " '__repr__',\n",
       " '__rmod__',\n",
       " '__rmul__',\n",
       " '__setattr__',\n",
       " '__sizeof__',\n",
       " '__str__',\n",
       " '__subclasshook__',\n",
       " 'capitalize',\n",
       " 'casefold',\n",
       " 'center',\n",
       " 'count',\n",
       " 'encode',\n",
       " 'endswith',\n",
       " 'expandtabs',\n",
       " 'find',\n",
       " 'format',\n",
       " 'format_map',\n",
       " 'index',\n",
       " 'isalnum',\n",
       " 'isalpha',\n",
       " 'isascii',\n",
       " 'isdecimal',\n",
       " 'isdigit',\n",
       " 'isidentifier',\n",
       " 'islower',\n",
       " 'isnumeric',\n",
       " 'isprintable',\n",
       " 'isspace',\n",
       " 'istitle',\n",
       " 'isupper',\n",
       " 'join',\n",
       " 'ljust',\n",
       " 'lower',\n",
       " 'lstrip',\n",
       " 'maketrans',\n",
       " 'partition',\n",
       " 'replace',\n",
       " 'rfind',\n",
       " 'rindex',\n",
       " 'rjust',\n",
       " 'rpartition',\n",
       " 'rsplit',\n",
       " 'rstrip',\n",
       " 'split',\n",
       " 'splitlines',\n",
       " 'startswith',\n",
       " 'strip',\n",
       " 'swapcase',\n",
       " 'title',\n",
       " 'translate',\n",
       " 'upper',\n",
       " 'zfill']"
      ]
     },
     "metadata": {},
     "execution_count": 34
    }
   ],
   "source": [
    "string = 'Python'\n",
    "dir(string) # wyrzuca metody i atrybuty obiektu string"
   ]
  },
  {
   "cell_type": "code",
   "execution_count": 46,
   "metadata": {},
   "outputs": [
    {
     "output_type": "execute_result",
     "data": {
      "text/plain": [
       "bool"
      ]
     },
     "metadata": {},
     "execution_count": 46
    }
   ],
   "source": [
    "string = 'Python'\n",
    "a = 10\n",
    "b = 4.5\n",
    "d = 3 + 3j\n",
    "prawda = True\n",
    "type(a)\n",
    "type(b)\n",
    "type(string)\n",
    "type(d)\n",
    "type(prawda)"
   ]
  },
  {
   "cell_type": "code",
   "execution_count": 61,
   "metadata": {},
   "outputs": [
    {
     "output_type": "stream",
     "name": "stdout",
     "text": [
      "x: <class 'str'> \ny: <class 'int'> \nz: <class 'str'>\nx: <class 'str'>\ny: <class 'int'>\nz: <class 'str'>\n"
     ]
    }
   ],
   "source": [
    "x = '1323435'\n",
    "y = 12334\n",
    "z = '0'\n",
    "\n",
    "print('x:',type(x),'\\ny:',type(y),'\\nz:' ,type(z))\n",
    "print('x: {}\\ny: {}\\nz: {}'.format(type(x),type(y),type(z)))"
   ]
  },
  {
   "source": [
    "## Metody na stringach"
   ],
   "cell_type": "markdown",
   "metadata": {}
  },
  {
   "cell_type": "code",
   "execution_count": 65,
   "metadata": {},
   "outputs": [
    {
     "output_type": "stream",
     "name": "stdout",
     "text": [
      "Help on built-in function count:\n\ncount(...) method of builtins.str instance\n    S.count(sub[, start[, end]]) -> int\n    \n    Return the number of non-overlapping occurrences of substring sub in\n    string S[start:end].  Optional arguments start and end are\n    interpreted as in slice notation.\n\n"
     ]
    }
   ],
   "source": [
    "text = 'Witaj na kursie Pythona.\\nPyton jest wspaniały.'\n",
    "help(text.count) ## pomoc"
   ]
  },
  {
   "cell_type": "code",
   "execution_count": 75,
   "metadata": {},
   "outputs": [
    {
     "output_type": "stream",
     "name": "stdout",
     "text": [
      "Witaj na kursie Pythona.\nPyton jest wspaniały.\n"
     ]
    }
   ],
   "source": [
    "text = 'Witaj na kursie Pythona.\\nPyton jest wspaniały.'\n",
    "print(text)"
   ]
  },
  {
   "cell_type": "code",
   "execution_count": 76,
   "metadata": {},
   "outputs": [
    {
     "output_type": "execute_result",
     "data": {
      "text/plain": [
       "'Witaj na kursie pythona.\\npyton jest wspaniały.'"
      ]
     },
     "metadata": {},
     "execution_count": 76
    }
   ],
   "source": [
    "text.capitalize()"
   ]
  },
  {
   "cell_type": "code",
   "execution_count": 77,
   "metadata": {},
   "outputs": [
    {
     "output_type": "execute_result",
     "data": {
      "text/plain": [
       "'Witaj Na Kursie Pythona.\\nPyton Jest Wspaniały.'"
      ]
     },
     "metadata": {},
     "execution_count": 77
    }
   ],
   "source": [
    "text.title()"
   ]
  },
  {
   "cell_type": "code",
   "execution_count": 78,
   "metadata": {},
   "outputs": [
    {
     "output_type": "execute_result",
     "data": {
      "text/plain": [
       "1"
      ]
     },
     "metadata": {},
     "execution_count": 78
    }
   ],
   "source": [
    "text.count('Python')"
   ]
  },
  {
   "cell_type": "code",
   "execution_count": 79,
   "metadata": {},
   "outputs": [
    {
     "output_type": "execute_result",
     "data": {
      "text/plain": [
       "True"
      ]
     },
     "metadata": {},
     "execution_count": 79
    }
   ],
   "source": [
    "text.startswith('Wi') ## sprawdza od czego zaczyna sie tekst"
   ]
  },
  {
   "cell_type": "code",
   "execution_count": 80,
   "metadata": {},
   "outputs": [
    {
     "output_type": "execute_result",
     "data": {
      "text/plain": [
       "False"
      ]
     },
     "metadata": {},
     "execution_count": 80
    }
   ],
   "source": [
    "text.startswith('ku')"
   ]
  },
  {
   "cell_type": "code",
   "execution_count": 81,
   "metadata": {},
   "outputs": [
    {
     "output_type": "execute_result",
     "data": {
      "text/plain": [
       "True"
      ]
     },
     "metadata": {},
     "execution_count": 81
    }
   ],
   "source": [
    "text.endswith('y.') ## jak wyżej tylko sprawdza czym się kończy"
   ]
  },
  {
   "cell_type": "code",
   "execution_count": 82,
   "metadata": {},
   "outputs": [
    {
     "output_type": "execute_result",
     "data": {
      "text/plain": [
       "16"
      ]
     },
     "metadata": {},
     "execution_count": 82
    }
   ],
   "source": [
    "text.find('Python') #numer indexu w którym to słowo się zaczyna"
   ]
  },
  {
   "cell_type": "code",
   "execution_count": 84,
   "metadata": {},
   "outputs": [
    {
     "output_type": "execute_result",
     "data": {
      "text/plain": [
       "'Pythona.\\nPyton jest wspaniały.'"
      ]
     },
     "metadata": {},
     "execution_count": 84
    }
   ],
   "source": [
    "text[text.find('Python'):] # wycina wszystko to co po 'python'"
   ]
  },
  {
   "cell_type": "code",
   "execution_count": 89,
   "metadata": {},
   "outputs": [
    {
     "output_type": "execute_result",
     "data": {
      "text/plain": [
       "'sport'"
      ]
     },
     "metadata": {},
     "execution_count": 89
    }
   ],
   "source": [
    "hashtags = 'sport#gym'\n",
    "idx = hashtags.find('#')\n",
    "hashtags[:idx]"
   ]
  },
  {
   "cell_type": "code",
   "execution_count": 92,
   "metadata": {},
   "outputs": [
    {
     "output_type": "execute_result",
     "data": {
      "text/plain": [
       "False"
      ]
     },
     "metadata": {},
     "execution_count": 92
    }
   ],
   "source": [
    "hashtags.isalnum() #sprawdza czy są tylko znaki alfanumeryczne\n",
    "hashtags.isdigit() # sprawdza czy wszystkie znaki są cyframi\n",
    "hashtags.islower() #spawdza czy wszystkie znaki sa z małej\n",
    "hashtags.isupper() # to samo tylko z dużej"
   ]
  },
  {
   "cell_type": "code",
   "execution_count": 94,
   "metadata": {},
   "outputs": [
    {
     "output_type": "execute_result",
     "data": {
      "text/plain": [
       "'tekst1#tekst2'"
      ]
     },
     "metadata": {},
     "execution_count": 94
    }
   ],
   "source": [
    "' '.join(['Python', '3.7'])\n",
    "'#'.join(['tekst1','tekst2'])"
   ]
  },
  {
   "cell_type": "code",
   "execution_count": 96,
   "metadata": {},
   "outputs": [
    {
     "output_type": "execute_result",
     "data": {
      "text/plain": [
       "' good time'"
      ]
     },
     "metadata": {},
     "execution_count": 96
    }
   ],
   "source": [
    "'#good#time'.replace('#',' ')"
   ]
  },
  {
   "cell_type": "code",
   "execution_count": 98,
   "metadata": {},
   "outputs": [
    {
     "output_type": "execute_result",
     "data": {
      "text/plain": [
       "'      python'"
      ]
     },
     "metadata": {},
     "execution_count": 98
    }
   ],
   "source": [
    "'      python    '.strip() #wycina białe znaki\r\n",
    "'      python    '.rstrip() # zprawej\r\n",
    "'      python    '.lstrip() # z lewej"
   ]
  },
  {
   "cell_type": "code",
   "execution_count": 99,
   "metadata": {},
   "outputs": [
    {
     "output_type": "execute_result",
     "data": {
      "text/plain": [
       "['1', '2', '3']"
      ]
     },
     "metadata": {},
     "execution_count": 99
    }
   ],
   "source": [
    "'1,2,3'.split(',')"
   ]
  },
  {
   "cell_type": "code",
   "execution_count": 102,
   "metadata": {},
   "outputs": [
    {
     "output_type": "execute_result",
     "data": {
      "text/plain": [
       "'000000012'"
      ]
     },
     "metadata": {},
     "execution_count": 102
    }
   ],
   "source": [
    "'12'.zfill(9)"
   ]
  },
  {
   "cell_type": "code",
   "execution_count": 105,
   "metadata": {},
   "outputs": [
    {
     "output_type": "stream",
     "name": "stdout",
     "text": [
      "sport#python#free#time\n"
     ]
    }
   ],
   "source": [
    "x = '#'.join(['sport', 'python', 'free', 'time'])\n",
    "print(x)"
   ]
  },
  {
   "cell_type": "code",
   "execution_count": 110,
   "metadata": {},
   "outputs": [
    {
     "output_type": "stream",
     "name": "stdout",
     "text": [
      "['123', '785', '45', '5']\n"
     ]
    }
   ],
   "source": [
    "x = '123 785 45 5'\n",
    "print(x.split())"
   ]
  },
  {
   "cell_type": "code",
   "execution_count": null,
   "metadata": {},
   "outputs": [],
   "source": []
  }
 ]
}