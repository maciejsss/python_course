{
 "cells": [
  {
   "cell_type": "code",
   "execution_count": 1,
   "metadata": {},
   "outputs": [],
   "source": [
    "val_1 = True\n",
    "val_2 = False"
   ]
  },
  {
   "cell_type": "code",
   "execution_count": 2,
   "metadata": {},
   "outputs": [
    {
     "name": "stdout",
     "output_type": "stream",
     "text": [
      "True\n"
     ]
    }
   ],
   "source": [
    "print(val_1)"
   ]
  },
  {
   "cell_type": "code",
   "execution_count": 3,
   "metadata": {},
   "outputs": [
    {
     "data": {
      "text/plain": [
       "True"
      ]
     },
     "execution_count": 3,
     "metadata": {},
     "output_type": "execute_result"
    }
   ],
   "source": [
    "True"
   ]
  },
  {
   "cell_type": "code",
   "execution_count": 4,
   "metadata": {},
   "outputs": [
    {
     "data": {
      "text/plain": [
       "False"
      ]
     },
     "execution_count": 4,
     "metadata": {},
     "output_type": "execute_result"
    }
   ],
   "source": [
    "not True"
   ]
  },
  {
   "cell_type": "code",
   "execution_count": 5,
   "metadata": {},
   "outputs": [
    {
     "data": {
      "text/plain": [
       "True"
      ]
     },
     "execution_count": 5,
     "metadata": {},
     "output_type": "execute_result"
    }
   ],
   "source": [
    "bool('python')"
   ]
  },
  {
   "cell_type": "code",
   "execution_count": 6,
   "metadata": {},
   "outputs": [
    {
     "data": {
      "text/plain": [
       "False"
      ]
     },
     "execution_count": 6,
     "metadata": {},
     "output_type": "execute_result"
    }
   ],
   "source": [
    "bool('')"
   ]
  },
  {
   "cell_type": "code",
   "execution_count": 7,
   "metadata": {},
   "outputs": [
    {
     "data": {
      "text/plain": [
       "False"
      ]
     },
     "execution_count": 7,
     "metadata": {},
     "output_type": "execute_result"
    }
   ],
   "source": [
    "bool(0)\n",
    "bool(0.0)"
   ]
  },
  {
   "cell_type": "code",
   "execution_count": 8,
   "metadata": {},
   "outputs": [
    {
     "data": {
      "text/plain": [
       "True"
      ]
     },
     "execution_count": 8,
     "metadata": {},
     "output_type": "execute_result"
    }
   ],
   "source": [
    "bool(1)"
   ]
  },
  {
   "cell_type": "code",
   "execution_count": 9,
   "metadata": {},
   "outputs": [
    {
     "data": {
      "text/plain": [
       "False"
      ]
     },
     "execution_count": 9,
     "metadata": {},
     "output_type": "execute_result"
    }
   ],
   "source": [
    "bool({})\n",
    "bool(set())\n",
    "bool(list())\n",
    "bool(tuple())"
   ]
  },
  {
   "cell_type": "code",
   "execution_count": 10,
   "metadata": {},
   "outputs": [
    {
     "name": "stdout",
     "output_type": "stream",
     "text": [
      "True\n",
      "False\n",
      "True\n",
      "True\n"
     ]
    }
   ],
   "source": [
    "print(bool(' '))\n",
    "print(bool(''))\n",
    "print(bool('1'))\n",
    "print(bool(['', '']))\n"
   ]
  },
  {
   "cell_type": "code",
   "execution_count": 11,
   "metadata": {},
   "outputs": [
    {
     "data": {
      "text/plain": [
       "True"
      ]
     },
     "execution_count": 11,
     "metadata": {},
     "output_type": "execute_result"
    }
   ],
   "source": [
    "number = 1200\n",
    "number > 1000"
   ]
  },
  {
   "cell_type": "code",
   "execution_count": 12,
   "metadata": {},
   "outputs": [
    {
     "data": {
      "text/plain": [
       "False"
      ]
     },
     "execution_count": 12,
     "metadata": {},
     "output_type": "execute_result"
    }
   ],
   "source": [
    "number == 1100"
   ]
  },
  {
   "cell_type": "code",
   "execution_count": 13,
   "metadata": {},
   "outputs": [
    {
     "data": {
      "text/plain": [
       "True"
      ]
     },
     "execution_count": 13,
     "metadata": {},
     "output_type": "execute_result"
    }
   ],
   "source": [
    "number != 1100"
   ]
  },
  {
   "cell_type": "code",
   "execution_count": 14,
   "metadata": {},
   "outputs": [],
   "source": [
    "if 8>10:\n",
    "    print('tak')"
   ]
  },
  {
   "cell_type": "code",
   "execution_count": 15,
   "metadata": {},
   "outputs": [],
   "source": [
    "a=8\n",
    "if a > 10:\n",
    "    print('a > 10')"
   ]
  },
  {
   "cell_type": "code",
   "execution_count": 16,
   "metadata": {},
   "outputs": [
    {
     "name": "stdout",
     "output_type": "stream",
     "text": [
      "a <= 10\n"
     ]
    }
   ],
   "source": [
    "a=5\n",
    "if a > 10:\n",
    "    print('a > 10')\n",
    "else:\n",
    "    print('a <= 10')"
   ]
  },
  {
   "cell_type": "code",
   "execution_count": 17,
   "metadata": {},
   "outputs": [
    {
     "name": "stdout",
     "output_type": "stream",
     "text": [
      "Dostęp przyznany\n"
     ]
    }
   ],
   "source": [
    "age = 27\n",
    "\n",
    "if age < 18:\n",
    "    print('Nie masz uprawnień')\n",
    "else:\n",
    "    print('Dostęp przyznany')"
   ]
  },
  {
   "cell_type": "code",
   "execution_count": 18,
   "metadata": {},
   "outputs": [
    {
     "name": "stdout",
     "output_type": "stream",
     "text": [
      "Dostęp przyznany\n"
     ]
    }
   ],
   "source": [
    "age = 27\n",
    "if age == 18:\n",
    "    print('Masz 18 lat')\n",
    "elif age < 18:\n",
    "    print('Nie masz uprawnień')\n",
    "else:\n",
    "    print('Dostęp przyznany')"
   ]
  },
  {
   "cell_type": "code",
   "execution_count": 19,
   "metadata": {},
   "outputs": [
    {
     "name": "stdout",
     "output_type": "stream",
     "text": [
      "Nie masz uprawnień\n"
     ]
    }
   ],
   "source": [
    "age = int(input('Podaj swój wiek: '))\n",
    "if age == 18:\n",
    "    print('Masz 18 lat')\n",
    "elif age < 18:\n",
    "    print('Nie masz uprawnień')\n",
    "else:\n",
    "    print('Dostęp przyznany')"
   ]
  },
  {
   "cell_type": "code",
   "execution_count": 20,
   "metadata": {},
   "outputs": [
    {
     "name": "stdout",
     "output_type": "stream",
     "text": [
      "Zmienna x większa od zera.\n"
     ]
    }
   ],
   "source": [
    "x = 10\n",
    "if x > 0:\n",
    "    print('Zmienna x większa od zera.')\n"
   ]
  },
  {
   "cell_type": "code",
   "execution_count": 21,
   "metadata": {},
   "outputs": [
    {
     "name": "stdout",
     "output_type": "stream",
     "text": [
      "Program uruchomiony...\n",
      "Włam się do systemu zgadując pin.\n",
      "Numer pin składa się z cyfr: 0,1,2\n",
      "Nie zgadłeś.\n"
     ]
    }
   ],
   "source": [
    "print('Program uruchomiony...')\n",
    "print(\"\"\"Włam się do systemu zgadując pin.\n",
    "Numer pin składa się z cyfr: 0,1,2\"\"\")\n",
    "pin = input('Wprowadź pin: ')\n",
    "\n",
    "if pin == '21':\n",
    "    print('Udało się.')\n",
    "elif pin == '20':\n",
    "    print('Byłeś blisko.')\n",
    "else:\n",
    "    print('Nie zgadłeś.')"
   ]
  },
  {
   "cell_type": "code",
   "execution_count": 22,
   "metadata": {},
   "outputs": [
    {
     "name": "stdout",
     "output_type": "stream",
     "text": [
      "Nie zgadłeś.\n"
     ]
    }
   ],
   "source": [
    "pin = int(input('Wprowadź pin: '))\n",
    "if pin == 21:\n",
    "    print('Udało się.')\n",
    "elif pin == 20:\n",
    "    print('Byłeś blisko.')\n",
    "else:\n",
    "    print('Nie zgadłeś.')"
   ]
  },
  {
   "cell_type": "code",
   "execution_count": 23,
   "metadata": {},
   "outputs": [
    {
     "name": "stdout",
     "output_type": "stream",
     "text": [
      "Niepusty \n"
     ]
    }
   ],
   "source": [
    "str = 'a'\n",
    "\n",
    "if str:\n",
    "    print('Niepusty ')\n",
    "else:\n",
    "    print('Pusty')"
   ]
  },
  {
   "cell_type": "code",
   "execution_count": 24,
   "metadata": {},
   "outputs": [
    {
     "name": "stdout",
     "output_type": "stream",
     "text": [
      "ZERO\n"
     ]
    }
   ],
   "source": [
    "number = 0\n",
    "\n",
    "if number:\n",
    "    print('Liczba ')\n",
    "else:\n",
    "    print('ZERO')"
   ]
  },
  {
   "cell_type": "code",
   "execution_count": 25,
   "metadata": {},
   "outputs": [
    {
     "name": "stdout",
     "output_type": "stream",
     "text": [
      "Doszło do defaultu\n"
     ]
    }
   ],
   "source": [
    "default_flag = True\n",
    "\n",
    "if default_flag:\n",
    "    print('Doszło do defaultu')\n",
    "else:\n",
    "    print('Nie doszło')"
   ]
  },
  {
   "cell_type": "code",
   "execution_count": 26,
   "metadata": {},
   "outputs": [
    {
     "name": "stdout",
     "output_type": "stream",
     "text": [
      "Nie doszło\n"
     ]
    }
   ],
   "source": [
    "default_flag = False\n",
    "\n",
    "if not default_flag:\n",
    "    print('Nie doszło')\n",
    "\n",
    "else:\n",
    "    print('Doszło do defaultu')\n"
   ]
  },
  {
   "cell_type": "code",
   "execution_count": 27,
   "metadata": {},
   "outputs": [
    {
     "name": "stdout",
     "output_type": "stream",
     "text": [
      "Zwolnij.\n"
     ]
    }
   ],
   "source": [
    "v = 55\n",
    "if v > 50:\n",
    "    print('Zwolnij.')\n",
    "else:\n",
    "    print('Tak trzymaj!')"
   ]
  },
  {
   "cell_type": "code",
   "execution_count": 28,
   "metadata": {},
   "outputs": [
    {
     "name": "stdout",
     "output_type": "stream",
     "text": [
      "Zwolnij!\n"
     ]
    }
   ],
   "source": [
    "v = 55\n",
    "if v > 50:\n",
    "    print('Zwolnij!')\n",
    "else:\n",
    "    print('Tak trzymaj')"
   ]
  },
  {
   "cell_type": "code",
   "execution_count": 29,
   "metadata": {},
   "outputs": [
    {
     "name": "stdout",
     "output_type": "stream",
     "text": [
      "Brakuje gotówki.\n"
     ]
    }
   ],
   "source": [
    "saldo = 0\n",
    "klient_zweryfikowany = False\n",
    "\n",
    "if saldo > 0  and klient_zweryfikowany:\n",
    "    print('Można dać kredyt.')\n",
    "elif saldo > 0 and not klient_zweryfikowany:\n",
    "    print('Klient niezweryfikowany')\n",
    "else:\n",
    "    print('Brakuje gotówki.')"
   ]
  },
  {
   "cell_type": "code",
   "execution_count": 30,
   "metadata": {},
   "outputs": [
    {
     "name": "stdout",
     "output_type": "stream",
     "text": [
      "Brakuje gotówki. Brak wystarczającej kwoty -23.\n"
     ]
    }
   ],
   "source": [
    "saldo = 100\n",
    "klient_zweryfikowany = True\n",
    "\n",
    "amount = int(input('Ile chcesz wypłacić: '))\n",
    "\n",
    "if saldo >= amount  and klient_zweryfikowany:\n",
    "    print('Dostałeś kredyt {}.'.format(amount))\n",
    "elif saldo < amount and klient_zweryfikowany:\n",
    "    print('Brakuje gotówki. Brak wystarczającej kwoty {}.'.format(saldo - amount))\n",
    "else:\n",
    "    print('Klient niezweryfikowany')\n"
   ]
  },
  {
   "cell_type": "code",
   "execution_count": 31,
   "metadata": {},
   "outputs": [
    {
     "name": "stdout",
     "output_type": "stream",
     "text": [
      "Mniej niż 20 unikalnych znaków.\n"
     ]
    }
   ],
   "source": [
    "fakt = 'python jest łatwy i przyjemny'\n",
    "characters = list(fakt)\n",
    "length = len(set(characters))\n",
    "if length < 20:\n",
    "    print(\"Mniej niż 20 unikalnych znaków.\")\n",
    "else:\n",
    "    print(\"Liczba unikalnych znaków jest większa lub równa 20.\")"
   ]
  },
  {
   "cell_type": "code",
   "execution_count": 32,
   "metadata": {},
   "outputs": [
    {
     "name": "stdout",
     "output_type": "stream",
     "text": [
      "Znaleziono p\n"
     ]
    }
   ],
   "source": [
    "name = 'python'\n",
    "if 'p' in name:\n",
    "    print('Znaleziono p')\n",
    "else:\n",
    "    print('nie znaleziono P')"
   ]
  },
  {
   "cell_type": "code",
   "execution_count": 33,
   "metadata": {},
   "outputs": [
    {
     "name": "stdout",
     "output_type": "stream",
     "text": [
      "Dobry wybór!\n"
     ]
    }
   ],
   "source": [
    "tech = 'python'\n",
    "if tech == 'python':\n",
    "    flag = 'Dobry wybór!'\n",
    "else:\n",
    "    flag = 'Nie dobry'\n",
    "\n",
    "print(flag)"
   ]
  },
  {
   "cell_type": "code",
   "execution_count": 34,
   "metadata": {},
   "outputs": [],
   "source": [
    "# x if [warunek] else y\n",
    "tech = 'python'\n",
    "\n",
    "flag = 'dobry wybor' if tech == 'python' else 'Poszukaj lepszego' #jednolinijkowy IF"
   ]
  },
  {
   "cell_type": "code",
   "execution_count": 35,
   "metadata": {},
   "outputs": [
    {
     "name": "stdout",
     "output_type": "stream",
     "text": [
      "Zawiera\n"
     ]
    }
   ],
   "source": [
    "text = 'sfdvjklncdnskjccbnksjdnckjsdsnckjnsdkjnckjsnkjlcnqdlknwsx'\n",
    "\n",
    "print('Zawiera') if 'q' in text else 'Nie zawiera'"
   ]
  },
  {
   "cell_type": "markdown",
   "metadata": {},
   "source": [
    "### PĘTLA FOR"
   ]
  },
  {
   "cell_type": "code",
   "execution_count": 36,
   "metadata": {},
   "outputs": [
    {
     "name": "stdout",
     "output_type": "stream",
     "text": [
      "p\n",
      "y\n",
      "t\n",
      "h\n",
      "o\n",
      "n\n"
     ]
    }
   ],
   "source": [
    "for i in 'python':\n",
    "    print(i)"
   ]
  },
  {
   "cell_type": "code",
   "execution_count": 37,
   "metadata": {},
   "outputs": [
    {
     "name": "stdout",
     "output_type": "stream",
     "text": [
      "s\n",
      "a\n",
      "s\n"
     ]
    }
   ],
   "source": [
    "name = 'sas'\n",
    "\n",
    "for character in name:\n",
    "    print(character)"
   ]
  },
  {
   "cell_type": "code",
   "execution_count": 38,
   "metadata": {},
   "outputs": [
    {
     "name": "stdout",
     "output_type": "stream",
     "text": [
      "0 p\n",
      "1 y\n",
      "2 t\n",
      "3 h\n",
      "4 o\n",
      "5 n\n"
     ]
    }
   ],
   "source": [
    "name = 'python'\n",
    "index = 0\n",
    "\n",
    "for character in name:\n",
    "    print(index, character)\n",
    "    index += 1\n",
    "\n"
   ]
  },
  {
   "cell_type": "code",
   "execution_count": 39,
   "metadata": {},
   "outputs": [
    {
     "name": "stdout",
     "output_type": "stream",
     "text": [
      "0\n",
      "1\n",
      "2\n",
      "3\n",
      "4\n",
      "5\n",
      "6\n",
      "7\n",
      "8\n",
      "9\n"
     ]
    }
   ],
   "source": [
    "for index in range(10):\n",
    "    print(index)"
   ]
  },
  {
   "cell_type": "code",
   "execution_count": 40,
   "metadata": {},
   "outputs": [
    {
     "data": {
      "text/plain": [
       "[0, 1, 2, 3, 4, 5]"
      ]
     },
     "execution_count": 40,
     "metadata": {},
     "output_type": "execute_result"
    }
   ],
   "source": [
    "list(range(len(name)))\n"
   ]
  },
  {
   "cell_type": "code",
   "execution_count": 41,
   "metadata": {},
   "outputs": [
    {
     "name": "stdout",
     "output_type": "stream",
     "text": [
      "0 p\n",
      "1 y\n",
      "2 t\n",
      "3 h\n",
      "4 o\n",
      "5 n\n"
     ]
    }
   ],
   "source": [
    "for index in range(len(name)):  ## WAŻNE\n",
    "    print(index, name[index])"
   ]
  },
  {
   "cell_type": "code",
   "execution_count": 42,
   "metadata": {},
   "outputs": [
    {
     "name": "stdout",
     "output_type": "stream",
     "text": [
      "Numer indeksu:  0 Litera:  p\n",
      "Numer indeksu:  1 Litera:  y\n",
      "Numer indeksu:  2 Litera:  t\n",
      "Numer indeksu:  3 Litera:  h\n",
      "Numer indeksu:  4 Litera:  o\n",
      "Numer indeksu:  5 Litera:  n\n"
     ]
    }
   ],
   "source": [
    "  for index in range(len(name)):  ## WAŻNE\n",
    "    print('Numer indeksu: ',index,'Litera: ', name[index])"
   ]
  },
  {
   "cell_type": "code",
   "execution_count": 43,
   "metadata": {},
   "outputs": [
    {
     "name": "stdout",
     "output_type": "stream",
     "text": [
      "(0, 'p')\n",
      "(1, 'y')\n",
      "(2, 't')\n",
      "(3, 'h')\n",
      "(4, 'o')\n",
      "(5, 'n')\n"
     ]
    }
   ],
   "source": [
    "for i in enumerate(name):\n",
    "    print(i)"
   ]
  },
  {
   "cell_type": "code",
   "execution_count": 44,
   "metadata": {},
   "outputs": [
    {
     "name": "stdout",
     "output_type": "stream",
     "text": [
      "0 p\n",
      "1 y\n",
      "2 t\n",
      "3 h\n",
      "4 o\n",
      "5 n\n"
     ]
    }
   ],
   "source": [
    "for i, character in enumerate(name):\n",
    "    print(i, character)"
   ]
  },
  {
   "cell_type": "code",
   "execution_count": 45,
   "metadata": {},
   "outputs": [
    {
     "name": "stdout",
     "output_type": "stream",
     "text": [
      "0 4\n",
      "1 5\n",
      "2 6\n",
      "3 8\n",
      "4 6\n"
     ]
    }
   ],
   "source": [
    "for i, value in enumerate([4,5,6,8,6]):\n",
    "    print(i, value)"
   ]
  },
  {
   "cell_type": "code",
   "execution_count": 46,
   "metadata": {},
   "outputs": [
    {
     "name": "stdout",
     "output_type": "stream",
     "text": [
      "5\n",
      "6\n",
      "7\n",
      "8\n",
      "9\n"
     ]
    }
   ],
   "source": [
    "for i in range(5,10):\n",
    "    print(i)"
   ]
  },
  {
   "cell_type": "code",
   "execution_count": 47,
   "metadata": {},
   "outputs": [
    {
     "name": "stdout",
     "output_type": "stream",
     "text": [
      "10\n",
      "9\n",
      "8\n",
      "7\n",
      "6\n",
      "5\n",
      "4\n",
      "3\n",
      "2\n",
      "1\n"
     ]
    }
   ],
   "source": [
    "for i in range(10,0,-1):\n",
    "    print(i)"
   ]
  },
  {
   "cell_type": "code",
   "execution_count": 48,
   "metadata": {},
   "outputs": [
    {
     "name": "stdout",
     "output_type": "stream",
     "text": [
      "10\n",
      "20\n",
      "30\n",
      "40\n",
      "50\n",
      "60\n",
      "70\n",
      "80\n",
      "90\n"
     ]
    }
   ],
   "source": [
    "for i in range(10,100,10):\n",
    "    print(i)"
   ]
  },
  {
   "cell_type": "code",
   "execution_count": 49,
   "metadata": {},
   "outputs": [
    {
     "name": "stdout",
     "output_type": "stream",
     "text": [
      "P\n",
      "y\n",
      "t\n",
      "h\n",
      "o\n",
      "n\n"
     ]
    }
   ],
   "source": [
    "string = 'Python course'\n",
    "\n",
    "for char in string[:6]:\n",
    "    print(char)"
   ]
  },
  {
   "cell_type": "code",
   "execution_count": 50,
   "metadata": {},
   "outputs": [
    {
     "name": "stdout",
     "output_type": "stream",
     "text": [
      "e\n",
      "s\n",
      "r\n",
      "u\n",
      "o\n",
      "c\n"
     ]
    }
   ],
   "source": [
    "string = 'Python course'\n",
    "\n",
    "for char in string[:6:-1]:\n",
    "    print(char)\n"
   ]
  },
  {
   "cell_type": "code",
   "execution_count": 51,
   "metadata": {},
   "outputs": [
    {
     "name": "stdout",
     "output_type": "stream",
     "text": [
      "s\n",
      "p\n",
      "o\n",
      "r\n",
      "t\n",
      "g\n",
      "y\n",
      "m\n",
      "f\n",
      "i\n",
      "t\n",
      "n\n",
      "e\n",
      "s\n",
      "s\n"
     ]
    }
   ],
   "source": [
    "hashtags = '#sport#gym#fitness'\n",
    "\n",
    "for char in hashtags:\n",
    "    if char != '#':\n",
    "        print(char)"
   ]
  },
  {
   "cell_type": "code",
   "execution_count": 52,
   "metadata": {},
   "outputs": [
    {
     "name": "stdout",
     "output_type": "stream",
     "text": [
      "('a', '1')\n",
      "('b', '2')\n",
      "('c', '3')\n",
      "('s', '4')\n"
     ]
    }
   ],
   "source": [
    "for char in zip('abcs', '12345'):\n",
    "    print(char)"
   ]
  },
  {
   "cell_type": "code",
   "execution_count": 53,
   "metadata": {},
   "outputs": [
    {
     "name": "stdout",
     "output_type": "stream",
     "text": [
      "a 1\n",
      "b 2\n",
      "c 3\n",
      "s 4\n"
     ]
    }
   ],
   "source": [
    "for char, number in zip('abcs', '12345'):\n",
    "    print(char, number)"
   ]
  },
  {
   "cell_type": "code",
   "execution_count": 54,
   "metadata": {},
   "outputs": [
    {
     "name": "stdout",
     "output_type": "stream",
     "text": [
      "\n",
      "sport\n",
      "gym\n",
      "fitness\n"
     ]
    }
   ],
   "source": [
    "hashtags = '#sport#gym#fitness#'\n",
    "result = ''\n",
    "\n",
    "for char in hashtags:\n",
    "    if char != '#':\n",
    "        result = result + char\n",
    "    else: \n",
    "        print(result)\n",
    "        result = ''\n"
   ]
  },
  {
   "cell_type": "code",
   "execution_count": 55,
   "metadata": {},
   "outputs": [
    {
     "name": "stdout",
     "output_type": "stream",
     "text": [
      "0\n",
      "1\n",
      "2\n",
      "3\n",
      "4\n",
      "5\n",
      "6\n",
      "7\n",
      "8\n",
      "9\n",
      "10\n",
      "11\n",
      "12\n",
      "13\n",
      "14\n",
      "15\n",
      "16\n",
      "17\n",
      "18\n",
      "19\n",
      "20\n"
     ]
    }
   ],
   "source": [
    "for i in range(21):\n",
    "    print(i)"
   ]
  },
  {
   "cell_type": "code",
   "execution_count": 1,
   "metadata": {},
   "outputs": [
    {
     "name": "stdout",
     "output_type": "stream",
     "text": [
      "\n",
      "weekend\n",
      "good\n",
      "time\n"
     ]
    }
   ],
   "source": [
    "hashtags = '#weekend#good#time#'\n",
    "result = ''\n",
    "\n",
    "for i in hashtags:\n",
    "    if i != '#':\n",
    "        result = result + i\n",
    "    else:\n",
    "        print(result)\n",
    "        result= ''"
   ]
  },
  {
   "cell_type": "code",
   "execution_count": 19,
   "metadata": {},
   "outputs": [
    {
     "name": "stdout",
     "output_type": "stream",
     "text": [
      "0\n",
      "1\n",
      "2\n",
      "3\n",
      "4\n",
      "5\n",
      "6\n"
     ]
    }
   ],
   "source": [
    "for i in '0123456789':\n",
    "    i = int(i)\n",
    "    print(i)\n",
    "    if i == 6:\n",
    "        break"
   ]
  },
  {
   "cell_type": "code",
   "execution_count": 22,
   "metadata": {},
   "outputs": [
    {
     "name": "stdout",
     "output_type": "stream",
     "text": [
      "P\n",
      "y\n",
      "t\n",
      "h\n",
      "o\n",
      "n\n"
     ]
    }
   ],
   "source": [
    "sample  = 'Python Course'\n",
    "for char in sample:\n",
    "    if char == ' ':\n",
    "        break\n",
    "    print(char)\n",
    "    "
   ]
  },
  {
   "cell_type": "code",
   "execution_count": 29,
   "metadata": {},
   "outputs": [
    {
     "name": "stdout",
     "output_type": "stream",
     "text": [
      "Adres email jest poprawny.\n"
     ]
    }
   ],
   "source": [
    "for char in 'kowalskij@gmail.com':\n",
    "    if char == '@':\n",
    "        print('Adres email jest poprawny.')\n",
    "        break       #przerywa pętle\n",
    "else:\n",
    "    print('Email nie jest poprawny.')"
   ]
  },
  {
   "cell_type": "code",
   "execution_count": 49,
   "metadata": {},
   "outputs": [
    {
     "name": "stdout",
     "output_type": "stream",
     "text": [
      "Hasło poprawne\n"
     ]
    }
   ],
   "source": [
    "ps = 'jnhvsoics!vd'\n",
    "if len(ps) > 10:\n",
    "    for char in ps:\n",
    "        if char == '!':\n",
    "            print('Hasło poprawne')\n",
    "            break\n",
    "    else:\n",
    "        print('Hasło niepoprawne')\n",
    "else:\n",
    "    print('Hasło niepoprawne')\n"
   ]
  },
  {
   "cell_type": "code",
   "execution_count": 52,
   "metadata": {},
   "outputs": [
    {
     "name": "stdout",
     "output_type": "stream",
     "text": [
      "0\n",
      "1\n",
      "2\n",
      "3\n",
      "4\n",
      "5\n",
      "7\n",
      "8\n",
      "9\n"
     ]
    }
   ],
   "source": [
    "for i in range(10):\n",
    "    if i == 6:\n",
    "        continue\n",
    "    print(i)"
   ]
  },
  {
   "cell_type": "code",
   "execution_count": 2,
   "metadata": {},
   "outputs": [
    {
     "name": "stdout",
     "output_type": "stream",
     "text": [
      "0\n",
      "2\n",
      "4\n",
      "6\n",
      "8\n",
      "10\n",
      "12\n",
      "14\n",
      "16\n",
      "18\n"
     ]
    }
   ],
   "source": [
    "for i in range(20):\n",
    "    if i % 2 == 0:\n",
    "        print(i)"
   ]
  },
  {
   "cell_type": "code",
   "execution_count": 3,
   "metadata": {},
   "outputs": [
    {
     "name": "stdout",
     "output_type": "stream",
     "text": [
      "1\n",
      "3\n",
      "5\n",
      "7\n",
      "9\n",
      "11\n",
      "13\n",
      "15\n",
      "17\n",
      "19\n"
     ]
    }
   ],
   "source": [
    "for i in range(20):\n",
    "    if i % 2 == 0:\n",
    "        continue #przechodzi do następnego iteratora\n",
    "    print(i)"
   ]
  },
  {
   "cell_type": "code",
   "execution_count": 8,
   "metadata": {},
   "outputs": [
    {
     "name": "stdout",
     "output_type": "stream",
     "text": [
      "P\n",
      "y\n",
      "t\n",
      "h\n",
      "o\n",
      "n\n",
      "C\n",
      "o\n",
      "u\n",
      "r\n",
      "s\n",
      "e\n"
     ]
    }
   ],
   "source": [
    "sample = 'Python Course'\n",
    "for char in sample:\n",
    "    if char == ' ':\n",
    "        continue\n",
    "    print(char)\n"
   ]
  },
  {
   "cell_type": "code",
   "execution_count": 17,
   "metadata": {},
   "outputs": [
    {
     "name": "stdout",
     "output_type": "stream",
     "text": [
      "\n",
      "summer\n",
      "holiday\n",
      "free\n"
     ]
    }
   ],
   "source": [
    "hashtags = '#summer#holiday#free'\n",
    "result = ''\n",
    "for i in hashtags:\n",
    "    if i == '#':\n",
    "        print(result)\n",
    "        result = ''\n",
    "        continue\n",
    "    result = result + i\n",
    "print(result)"
   ]
  },
  {
   "cell_type": "code",
   "execution_count": 26,
   "metadata": {},
   "outputs": [
    {
     "name": "stdout",
     "output_type": "stream",
     "text": [
      "1\n",
      "2\n",
      "4\n",
      "5\n"
     ]
    }
   ],
   "source": [
    "lista = [1,2,99,4,5]\n",
    "for i in lista:\n",
    "    if i == 99:\n",
    "        continue\n",
    "    print(i)"
   ]
  },
  {
   "cell_type": "code",
   "execution_count": 29,
   "metadata": {},
   "outputs": [
    {
     "name": "stdout",
     "output_type": "stream",
     "text": [
      "345,23,3234,43434\n"
     ]
    }
   ],
   "source": [
    "raw_data = '345!23!3234!43434'\n",
    "clean_data = ''\n",
    "\n",
    "for char in raw_data:\n",
    "    if char != '!':\n",
    "        clean_data += char\n",
    "    else:\n",
    "        clean_data += ','\n",
    "print(clean_data)\n",
    "\n",
    "\n",
    "\n"
   ]
  },
  {
   "cell_type": "code",
   "execution_count": 32,
   "metadata": {},
   "outputs": [
    {
     "name": "stdout",
     "output_type": "stream",
     "text": [
      "10\n"
     ]
    }
   ],
   "source": [
    "suma = 0\n",
    "for i in range(10):\n",
    "    suma += 1\n",
    "print(suma)"
   ]
  },
  {
   "cell_type": "code",
   "execution_count": 42,
   "metadata": {},
   "outputs": [
    {
     "name": "stdout",
     "output_type": "stream",
     "text": [
      "Saldo poczatkowe 450\n",
      "WYPŁACONO 10\n",
      "Saldo 440\n",
      "WYPŁACONO 20\n",
      "Saldo 420\n",
      "WYPŁACONO 30\n",
      "Saldo 390\n",
      "WYPŁACONO 40\n",
      "Saldo 350\n",
      "WYPŁACONO 50\n",
      "Saldo 300\n",
      "Saldo końcowe 300\n"
     ]
    }
   ],
   "source": [
    "saldo = 450\n",
    "print('Saldo poczatkowe {}'.format(saldo))\n",
    "\n",
    "for kwota in range(10,60,10):\n",
    "    print('WYPŁACONO {}'.format(kwota))\n",
    "    saldo -= kwota\n",
    "    print('Saldo {}'.format(saldo))\n",
    "print('Saldo końcowe {}'.format(saldo))\n",
    "\n"
   ]
  },
  {
   "cell_type": "code",
   "execution_count": 50,
   "metadata": {},
   "outputs": [
    {
     "name": "stdout",
     "output_type": "stream",
     "text": [
      "Witaj w systemie logowania.\n",
      "******************************\n",
      "Pin prawidłowy.\n"
     ]
    }
   ],
   "source": [
    "print('Witaj w systemie logowania.')\n",
    "print('*'*30)\n",
    "\n",
    "nick = input('Podaj swój nick: ')\n",
    "pin = input('Podaj swój pin, {}: '.format(nick))\n",
    "\n",
    "if len(pin) == 4:\n",
    "    for char in pin:\n",
    "        if char not in '0123456789':\n",
    "            print('Pin nieprawidłowy')\n",
    "            break\n",
    "    else:\n",
    "        print('Pin prawidłowy.')\n",
    "else:\n",
    "    print('Podałeś za krótki kod pin.')"
   ]
  },
  {
   "cell_type": "code",
   "execution_count": null,
   "metadata": {},
   "outputs": [],
   "source": []
  }
 ],
 "metadata": {
  "interpreter": {
   "hash": "9179e28e3dd4a147429fcfc0a6299c7867ef5c5c33c52167b434be2401c7cc31"
  },
  "kernelspec": {
   "display_name": "Python 3.8.8 64-bit ('base': conda)",
   "name": "python3"
  },
  "language_info": {
   "codemirror_mode": {
    "name": "ipython",
    "version": 3
   },
   "file_extension": ".py",
   "mimetype": "text/x-python",
   "name": "python",
   "nbconvert_exporter": "python",
   "pygments_lexer": "ipython3",
   "version": "3.9.7"
  },
  "orig_nbformat": 4
 },
 "nbformat": 4,
 "nbformat_minor": 2
}
