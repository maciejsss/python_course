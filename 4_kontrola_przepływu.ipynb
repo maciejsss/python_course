{
 "cells": [
  {
   "cell_type": "code",
   "execution_count": 1,
   "source": [
    "val_1 = True\r\n",
    "val_2 = False"
   ],
   "outputs": [],
   "metadata": {}
  },
  {
   "cell_type": "code",
   "execution_count": 2,
   "source": [
    "print(val_1)"
   ],
   "outputs": [
    {
     "output_type": "stream",
     "name": "stdout",
     "text": [
      "True\n"
     ]
    }
   ],
   "metadata": {}
  },
  {
   "cell_type": "code",
   "execution_count": 3,
   "source": [
    "True"
   ],
   "outputs": [
    {
     "output_type": "execute_result",
     "data": {
      "text/plain": [
       "True"
      ]
     },
     "metadata": {},
     "execution_count": 3
    }
   ],
   "metadata": {}
  },
  {
   "cell_type": "code",
   "execution_count": 4,
   "source": [
    "not True"
   ],
   "outputs": [
    {
     "output_type": "execute_result",
     "data": {
      "text/plain": [
       "False"
      ]
     },
     "metadata": {},
     "execution_count": 4
    }
   ],
   "metadata": {}
  },
  {
   "cell_type": "code",
   "execution_count": 5,
   "source": [
    "bool('python')"
   ],
   "outputs": [
    {
     "output_type": "execute_result",
     "data": {
      "text/plain": [
       "True"
      ]
     },
     "metadata": {},
     "execution_count": 5
    }
   ],
   "metadata": {}
  },
  {
   "cell_type": "code",
   "execution_count": 6,
   "source": [
    "bool('')"
   ],
   "outputs": [
    {
     "output_type": "execute_result",
     "data": {
      "text/plain": [
       "False"
      ]
     },
     "metadata": {},
     "execution_count": 6
    }
   ],
   "metadata": {}
  },
  {
   "cell_type": "code",
   "execution_count": 7,
   "source": [
    "bool(0)\r\n",
    "bool(0.0)"
   ],
   "outputs": [
    {
     "output_type": "execute_result",
     "data": {
      "text/plain": [
       "False"
      ]
     },
     "metadata": {},
     "execution_count": 7
    }
   ],
   "metadata": {}
  },
  {
   "cell_type": "code",
   "execution_count": 8,
   "source": [
    "bool(1)"
   ],
   "outputs": [
    {
     "output_type": "execute_result",
     "data": {
      "text/plain": [
       "True"
      ]
     },
     "metadata": {},
     "execution_count": 8
    }
   ],
   "metadata": {}
  },
  {
   "cell_type": "code",
   "execution_count": 9,
   "source": [
    "bool({})\r\n",
    "bool(set())\r\n",
    "bool(list())\r\n",
    "bool(tuple())"
   ],
   "outputs": [
    {
     "output_type": "execute_result",
     "data": {
      "text/plain": [
       "False"
      ]
     },
     "metadata": {},
     "execution_count": 9
    }
   ],
   "metadata": {}
  },
  {
   "cell_type": "code",
   "execution_count": 10,
   "source": [
    "print(bool(' '))\r\n",
    "print(bool(''))\r\n",
    "print(bool('1'))\r\n",
    "print(bool(['', '']))\r\n"
   ],
   "outputs": [
    {
     "output_type": "stream",
     "name": "stdout",
     "text": [
      "True\n",
      "False\n",
      "True\n",
      "True\n"
     ]
    }
   ],
   "metadata": {}
  },
  {
   "cell_type": "code",
   "execution_count": 11,
   "source": [
    "number = 1200\r\n",
    "number > 1000"
   ],
   "outputs": [
    {
     "output_type": "execute_result",
     "data": {
      "text/plain": [
       "True"
      ]
     },
     "metadata": {},
     "execution_count": 11
    }
   ],
   "metadata": {}
  },
  {
   "cell_type": "code",
   "execution_count": 12,
   "source": [
    "number == 1100"
   ],
   "outputs": [
    {
     "output_type": "execute_result",
     "data": {
      "text/plain": [
       "False"
      ]
     },
     "metadata": {},
     "execution_count": 12
    }
   ],
   "metadata": {}
  },
  {
   "cell_type": "code",
   "execution_count": 13,
   "source": [
    "number != 1100"
   ],
   "outputs": [
    {
     "output_type": "execute_result",
     "data": {
      "text/plain": [
       "True"
      ]
     },
     "metadata": {},
     "execution_count": 13
    }
   ],
   "metadata": {}
  },
  {
   "cell_type": "code",
   "execution_count": 14,
   "source": [
    "if 8>10:\r\n",
    "    print('tak')"
   ],
   "outputs": [],
   "metadata": {}
  },
  {
   "cell_type": "code",
   "execution_count": 15,
   "source": [
    "a=8\r\n",
    "if a > 10:\r\n",
    "    print('a > 10')"
   ],
   "outputs": [],
   "metadata": {}
  },
  {
   "cell_type": "code",
   "execution_count": 17,
   "source": [
    "a=5\r\n",
    "if a > 10:\r\n",
    "    print('a > 10')\r\n",
    "else:\r\n",
    "    print('a <= 10')"
   ],
   "outputs": [
    {
     "output_type": "stream",
     "name": "stdout",
     "text": [
      "a <= 10\n"
     ]
    }
   ],
   "metadata": {}
  },
  {
   "cell_type": "code",
   "execution_count": 18,
   "source": [
    "age = 27\r\n",
    "\r\n",
    "if age < 18:\r\n",
    "    print('Nie masz uprawnień')\r\n",
    "else:\r\n",
    "    print('Dostęp przyznany')"
   ],
   "outputs": [
    {
     "output_type": "stream",
     "name": "stdout",
     "text": [
      "Dostęp przyznany\n"
     ]
    }
   ],
   "metadata": {}
  },
  {
   "cell_type": "code",
   "execution_count": 19,
   "source": [
    "age = 27\r\n",
    "if age == 18:\r\n",
    "    print('Masz 18 lat')\r\n",
    "elif age < 18:\r\n",
    "    print('Nie masz uprawnień')\r\n",
    "else:\r\n",
    "    print('Dostęp przyznany')"
   ],
   "outputs": [
    {
     "output_type": "stream",
     "name": "stdout",
     "text": [
      "Dostęp przyznany\n"
     ]
    }
   ],
   "metadata": {}
  },
  {
   "cell_type": "code",
   "execution_count": 21,
   "source": [
    "age = int(input('Podaj swój wiek: '))\r\n",
    "if age == 18:\r\n",
    "    print('Masz 18 lat')\r\n",
    "elif age < 18:\r\n",
    "    print('Nie masz uprawnień')\r\n",
    "else:\r\n",
    "    print('Dostęp przyznany')"
   ],
   "outputs": [
    {
     "output_type": "stream",
     "name": "stdout",
     "text": [
      "Dostęp przyznany\n"
     ]
    }
   ],
   "metadata": {}
  },
  {
   "cell_type": "code",
   "execution_count": 22,
   "source": [
    "x = 10\r\n",
    "if x > 0:\r\n",
    "    print('Zmienna x większa od zera.')\r\n"
   ],
   "outputs": [
    {
     "output_type": "stream",
     "name": "stdout",
     "text": [
      "Zmienna x większa od zera.\n"
     ]
    }
   ],
   "metadata": {}
  },
  {
   "cell_type": "code",
   "execution_count": 34,
   "source": [
    "print('Program uruchomiony...')\r\n",
    "print(\"\"\"Włam się do systemu zgadując pin.\r\n",
    "Numer pin składa się z cyfr: 0,1,2\"\"\")\r\n",
    "pin = input('Wprowadź pin: ')\r\n",
    "\r\n",
    "if pin == '21':\r\n",
    "    print('Udało się.')\r\n",
    "elif pin == '20':\r\n",
    "    print('Byłeś blisko.')\r\n",
    "else:\r\n",
    "    print('Nie zgadłeś.')"
   ],
   "outputs": [
    {
     "output_type": "stream",
     "name": "stdout",
     "text": [
      "Program uruchomiony...\n",
      "Włam się do systemu zgadując pin.\n",
      "Numer pin składa się z cyfr: 0,1,2\n",
      "Udało się.\n"
     ]
    }
   ],
   "metadata": {}
  },
  {
   "cell_type": "code",
   "execution_count": 39,
   "source": [
    "pin = int(input('Wprowadź pin: '))\r\n",
    "if pin == 21:\r\n",
    "    print('Udało się.')\r\n",
    "elif pin == 20:\r\n",
    "    print('Byłeś blisko.')\r\n",
    "else:\r\n",
    "    print('Nie zgadłeś.')"
   ],
   "outputs": [
    {
     "output_type": "stream",
     "name": "stdout",
     "text": [
      "Udało się.\n"
     ]
    }
   ],
   "metadata": {}
  },
  {
   "cell_type": "code",
   "execution_count": 42,
   "source": [
    "str = 'a'\r\n",
    "\r\n",
    "if str:\r\n",
    "    print('Niepusty ')\r\n",
    "else:\r\n",
    "    print('Pusty')"
   ],
   "outputs": [
    {
     "output_type": "stream",
     "name": "stdout",
     "text": [
      "Niepusty \n"
     ]
    }
   ],
   "metadata": {}
  },
  {
   "cell_type": "code",
   "execution_count": 46,
   "source": [
    "number = 0\r\n",
    "\r\n",
    "if number:\r\n",
    "    print('Liczba ')\r\n",
    "else:\r\n",
    "    print('ZERO')"
   ],
   "outputs": [
    {
     "output_type": "stream",
     "name": "stdout",
     "text": [
      "ZERO\n"
     ]
    }
   ],
   "metadata": {}
  },
  {
   "cell_type": "code",
   "execution_count": null,
   "source": [
    "default_flag = True\r\n",
    "\r\n",
    "if default_flag:\r\n",
    "    print('Doszło do defaultu')\r\n",
    "else:\r\n",
    "    print('Nie doszło')"
   ],
   "outputs": [],
   "metadata": {}
  }
 ],
 "metadata": {
  "orig_nbformat": 4,
  "language_info": {
   "name": "python",
   "version": "3.8.8",
   "mimetype": "text/x-python",
   "codemirror_mode": {
    "name": "ipython",
    "version": 3
   },
   "pygments_lexer": "ipython3",
   "nbconvert_exporter": "python",
   "file_extension": ".py"
  },
  "kernelspec": {
   "name": "python3",
   "display_name": "Python 3.8.8 64-bit ('base': conda)"
  },
  "interpreter": {
   "hash": "9179e28e3dd4a147429fcfc0a6299c7867ef5c5c33c52167b434be2401c7cc31"
  }
 },
 "nbformat": 4,
 "nbformat_minor": 2
}