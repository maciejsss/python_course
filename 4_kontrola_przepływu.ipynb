{
 "cells": [
  {
   "cell_type": "code",
   "execution_count": null,
   "source": [
    "val_1 = True\r\n",
    "val_2 = False"
   ],
   "outputs": [],
   "metadata": {}
  },
  {
   "cell_type": "code",
   "execution_count": null,
   "source": [
    "print(val_1)"
   ],
   "outputs": [],
   "metadata": {}
  },
  {
   "cell_type": "code",
   "execution_count": null,
   "source": [
    "True"
   ],
   "outputs": [],
   "metadata": {}
  },
  {
   "cell_type": "code",
   "execution_count": null,
   "source": [
    "not True"
   ],
   "outputs": [],
   "metadata": {}
  },
  {
   "cell_type": "code",
   "execution_count": null,
   "source": [
    "bool('python')"
   ],
   "outputs": [],
   "metadata": {}
  },
  {
   "cell_type": "code",
   "execution_count": null,
   "source": [
    "bool('')"
   ],
   "outputs": [],
   "metadata": {}
  },
  {
   "cell_type": "code",
   "execution_count": null,
   "source": [
    "bool(0)\r\n",
    "bool(0.0)"
   ],
   "outputs": [],
   "metadata": {}
  },
  {
   "cell_type": "code",
   "execution_count": null,
   "source": [
    "bool(1)"
   ],
   "outputs": [],
   "metadata": {}
  },
  {
   "cell_type": "code",
   "execution_count": null,
   "source": [
    "bool({})\r\n",
    "bool(set())\r\n",
    "bool(list())\r\n",
    "bool(tuple())"
   ],
   "outputs": [],
   "metadata": {}
  },
  {
   "cell_type": "code",
   "execution_count": null,
   "source": [
    "print(bool(' '))\r\n",
    "print(bool(''))\r\n",
    "print(bool('1'))\r\n",
    "print(bool(['', '']))\r\n"
   ],
   "outputs": [],
   "metadata": {}
  },
  {
   "cell_type": "code",
   "execution_count": null,
   "source": [
    "number = 1200\r\n",
    "number > 1000"
   ],
   "outputs": [],
   "metadata": {}
  },
  {
   "cell_type": "code",
   "execution_count": null,
   "source": [
    "number == 1100"
   ],
   "outputs": [],
   "metadata": {}
  },
  {
   "cell_type": "code",
   "execution_count": null,
   "source": [
    "number != 1100"
   ],
   "outputs": [],
   "metadata": {}
  },
  {
   "cell_type": "code",
   "execution_count": null,
   "source": [
    "if 8>10:\r\n",
    "    print('tak')"
   ],
   "outputs": [],
   "metadata": {}
  },
  {
   "cell_type": "code",
   "execution_count": null,
   "source": [
    "a=8\r\n",
    "if a > 10:\r\n",
    "    print('a > 10')"
   ],
   "outputs": [],
   "metadata": {}
  },
  {
   "cell_type": "code",
   "execution_count": null,
   "source": [
    "a=5\r\n",
    "if a > 10:\r\n",
    "    print('a > 10')\r\n",
    "else:\r\n",
    "    print('a <= 10')"
   ],
   "outputs": [],
   "metadata": {}
  },
  {
   "cell_type": "code",
   "execution_count": null,
   "source": [
    "age = 27\r\n",
    "\r\n",
    "if age < 18:\r\n",
    "    print('Nie masz uprawnień')\r\n",
    "else:\r\n",
    "    print('Dostęp przyznany')"
   ],
   "outputs": [],
   "metadata": {}
  },
  {
   "cell_type": "code",
   "execution_count": null,
   "source": [
    "age = 27\r\n",
    "if age == 18:\r\n",
    "    print('Masz 18 lat')\r\n",
    "elif age < 18:\r\n",
    "    print('Nie masz uprawnień')\r\n",
    "else:\r\n",
    "    print('Dostęp przyznany')"
   ],
   "outputs": [],
   "metadata": {}
  },
  {
   "cell_type": "code",
   "execution_count": null,
   "source": [
    "age = int(input('Podaj swój wiek: '))\r\n",
    "if age == 18:\r\n",
    "    print('Masz 18 lat')\r\n",
    "elif age < 18:\r\n",
    "    print('Nie masz uprawnień')\r\n",
    "else:\r\n",
    "    print('Dostęp przyznany')"
   ],
   "outputs": [],
   "metadata": {}
  },
  {
   "cell_type": "code",
   "execution_count": null,
   "source": [
    "x = 10\r\n",
    "if x > 0:\r\n",
    "    print('Zmienna x większa od zera.')\r\n"
   ],
   "outputs": [],
   "metadata": {}
  },
  {
   "cell_type": "code",
   "execution_count": null,
   "source": [
    "print('Program uruchomiony...')\r\n",
    "print(\"\"\"Włam się do systemu zgadując pin.\r\n",
    "Numer pin składa się z cyfr: 0,1,2\"\"\")\r\n",
    "pin = input('Wprowadź pin: ')\r\n",
    "\r\n",
    "if pin == '21':\r\n",
    "    print('Udało się.')\r\n",
    "elif pin == '20':\r\n",
    "    print('Byłeś blisko.')\r\n",
    "else:\r\n",
    "    print('Nie zgadłeś.')"
   ],
   "outputs": [],
   "metadata": {}
  },
  {
   "cell_type": "code",
   "execution_count": null,
   "source": [
    "pin = int(input('Wprowadź pin: '))\r\n",
    "if pin == 21:\r\n",
    "    print('Udało się.')\r\n",
    "elif pin == 20:\r\n",
    "    print('Byłeś blisko.')\r\n",
    "else:\r\n",
    "    print('Nie zgadłeś.')"
   ],
   "outputs": [],
   "metadata": {}
  },
  {
   "cell_type": "code",
   "execution_count": null,
   "source": [
    "str = 'a'\r\n",
    "\r\n",
    "if str:\r\n",
    "    print('Niepusty ')\r\n",
    "else:\r\n",
    "    print('Pusty')"
   ],
   "outputs": [],
   "metadata": {}
  },
  {
   "cell_type": "code",
   "execution_count": null,
   "source": [
    "number = 0\r\n",
    "\r\n",
    "if number:\r\n",
    "    print('Liczba ')\r\n",
    "else:\r\n",
    "    print('ZERO')"
   ],
   "outputs": [],
   "metadata": {}
  },
  {
   "cell_type": "code",
   "execution_count": null,
   "source": [
    "default_flag = True\r\n",
    "\r\n",
    "if default_flag:\r\n",
    "    print('Doszło do defaultu')\r\n",
    "else:\r\n",
    "    print('Nie doszło')"
   ],
   "outputs": [],
   "metadata": {}
  },
  {
   "cell_type": "code",
   "execution_count": null,
   "source": [
    "default_flag = False\r\n",
    "\r\n",
    "if not default_flag:\r\n",
    "    print('Nie doszło')\r\n",
    "\r\n",
    "else:\r\n",
    "    print('Doszło do defaultu')\r\n"
   ],
   "outputs": [],
   "metadata": {}
  },
  {
   "cell_type": "code",
   "execution_count": null,
   "source": [
    "v = 55\r\n",
    "if v > 50:\r\n",
    "    print('Zwolnij.')\r\n",
    "else:\r\n",
    "    print('Tak trzymaj!')"
   ],
   "outputs": [],
   "metadata": {}
  },
  {
   "cell_type": "code",
   "execution_count": null,
   "source": [
    "v = 55\r\n",
    "if v > 50:\r\n",
    "    print('Zwolnij!')\r\n",
    "else:\r\n",
    "    print('Tak trzymaj')"
   ],
   "outputs": [],
   "metadata": {}
  },
  {
   "cell_type": "code",
   "execution_count": null,
   "source": [
    "saldo = 0\r\n",
    "klient_zweryfikowany = False\r\n",
    "\r\n",
    "if saldo > 0  and klient_zweryfikowany:\r\n",
    "    print('Można dać kredyt.')\r\n",
    "elif saldo > 0 and not klient_zweryfikowany:\r\n",
    "    print('Klient niezweryfikowany')\r\n",
    "else:\r\n",
    "    print('Brakuje gotówki.')"
   ],
   "outputs": [],
   "metadata": {}
  },
  {
   "cell_type": "code",
   "execution_count": null,
   "source": [
    "saldo = 100\r\n",
    "klient_zweryfikowany = True\r\n",
    "\r\n",
    "amount = int(input('Ile chcesz wypłacić: '))\r\n",
    "\r\n",
    "if saldo >= amount  and klient_zweryfikowany:\r\n",
    "    print('Dostałeś kredyt {}.'.format(amount))\r\n",
    "elif saldo < amount and klient_zweryfikowany:\r\n",
    "    print('Brakuje gotówki. Brak wystarczającej kwoty {}.'.format(saldo - amount))\r\n",
    "else:\r\n",
    "    print('Klient niezweryfikowany')\r\n"
   ],
   "outputs": [],
   "metadata": {}
  },
  {
   "cell_type": "code",
   "execution_count": null,
   "source": [
    "fakt = 'python jest łatwy i przyjemny'\r\n",
    "characters = list(fakt)\r\n",
    "length = len(set(characters))\r\n",
    "if length < 20:\r\n",
    "    print(\"Mniej niż 20 unikalnych znaków.\")\r\n",
    "else:\r\n",
    "    print(\"Liczba unikalnych znaków jest większa lub równa 20.\")"
   ],
   "outputs": [],
   "metadata": {}
  },
  {
   "cell_type": "code",
   "execution_count": null,
   "source": [
    "name = 'python'\r\n",
    "if 'p' in name:\r\n",
    "    print('Znaleziono p')\r\n",
    "else:\r\n",
    "    print('nie znaleziono P')"
   ],
   "outputs": [],
   "metadata": {}
  },
  {
   "cell_type": "code",
   "execution_count": null,
   "source": [
    "tech = 'python'\r\n",
    "if tech == 'python':\r\n",
    "    flag = 'Dobry wybór!'\r\n",
    "else:\r\n",
    "    flag = 'Nie dobry'\r\n",
    "\r\n",
    "print(flag)"
   ],
   "outputs": [],
   "metadata": {}
  },
  {
   "cell_type": "code",
   "execution_count": null,
   "source": [
    "# x if [warunek] else y\r\n",
    "tech = 'python'\r\n",
    "\r\n",
    "flag = 'dobry wybor' if tech == 'python' else 'Poszukaj lepszego' #jednolinijkowy IF"
   ],
   "outputs": [],
   "metadata": {}
  },
  {
   "cell_type": "code",
   "execution_count": null,
   "source": [
    "text = 'sfdvjklncdnskjccbnksjdnckjsdsnckjnsdkjnckjsnkjlcnqdlknwsx'\r\n",
    "\r\n",
    "print('Zawiera') if 'q' in text else 'Nie zawiera'"
   ],
   "outputs": [],
   "metadata": {}
  },
  {
   "cell_type": "markdown",
   "source": [
    "### PĘTLA FOR"
   ],
   "metadata": {}
  },
  {
   "cell_type": "code",
   "execution_count": null,
   "source": [
    "for i in 'python':\r\n",
    "    print(i)"
   ],
   "outputs": [],
   "metadata": {}
  },
  {
   "cell_type": "code",
   "execution_count": null,
   "source": [
    "name = 'sas'\r\n",
    "\r\n",
    "for character in name:\r\n",
    "    print(character)"
   ],
   "outputs": [],
   "metadata": {}
  },
  {
   "cell_type": "code",
   "execution_count": null,
   "source": [
    "name = 'python'\r\n",
    "index = 0\r\n",
    "\r\n",
    "for character in name:\r\n",
    "    print(index, character)\r\n",
    "    index += 1\r\n",
    "\r\n"
   ],
   "outputs": [],
   "metadata": {}
  },
  {
   "cell_type": "code",
   "execution_count": null,
   "source": [
    "for index in range(10):\r\n",
    "    print(index)"
   ],
   "outputs": [],
   "metadata": {}
  },
  {
   "cell_type": "code",
   "execution_count": null,
   "source": [
    "list(range(len(name)))\r\n"
   ],
   "outputs": [],
   "metadata": {}
  },
  {
   "cell_type": "code",
   "execution_count": null,
   "source": [
    "for index in range(len(name)):  ## WAŻNE\r\n",
    "    print(index, name[index])"
   ],
   "outputs": [],
   "metadata": {}
  },
  {
   "cell_type": "code",
   "execution_count": null,
   "source": [
    "  for index in range(len(name)):  ## WAŻNE\r\n",
    "    print('Numer indeksu: ',index,'Litera: ', name[index])"
   ],
   "outputs": [],
   "metadata": {}
  },
  {
   "cell_type": "code",
   "execution_count": null,
   "source": [
    "for i in enumerate(name):\r\n",
    "    print(i)"
   ],
   "outputs": [],
   "metadata": {}
  },
  {
   "cell_type": "code",
   "execution_count": null,
   "source": [
    "for i, character in enumerate(name):\r\n",
    "    print(i, character)"
   ],
   "outputs": [],
   "metadata": {}
  },
  {
   "cell_type": "code",
   "execution_count": null,
   "source": [
    "for i, value in enumerate([4,5,6,8,6]):\r\n",
    "    print(i, value)"
   ],
   "outputs": [],
   "metadata": {}
  },
  {
   "cell_type": "code",
   "execution_count": null,
   "source": [
    "for i in range(5,10):\r\n",
    "    print(i)"
   ],
   "outputs": [],
   "metadata": {}
  },
  {
   "cell_type": "code",
   "execution_count": null,
   "source": [
    "for i in range(10,0,-1):\r\n",
    "    print(i)"
   ],
   "outputs": [],
   "metadata": {}
  },
  {
   "cell_type": "code",
   "execution_count": null,
   "source": [
    "for i in range(10,100,10):\r\n",
    "    print(i)"
   ],
   "outputs": [],
   "metadata": {}
  },
  {
   "cell_type": "code",
   "execution_count": null,
   "source": [
    "string = 'Python course'\r\n",
    "\r\n",
    "for char in string[:6]:\r\n",
    "    print(char)"
   ],
   "outputs": [],
   "metadata": {}
  },
  {
   "cell_type": "code",
   "execution_count": null,
   "source": [
    "string = 'Python course'\r\n",
    "\r\n",
    "for char in string[:6:-1]:\r\n",
    "    print(char)\r\n"
   ],
   "outputs": [],
   "metadata": {}
  },
  {
   "cell_type": "code",
   "execution_count": 6,
   "source": [
    "hashtags = '#sport#gym#fitness'\r\n",
    "\r\n",
    "for char in hashtags:\r\n",
    "    if char != '#':\r\n",
    "        print(char)"
   ],
   "outputs": [
    {
     "output_type": "stream",
     "name": "stdout",
     "text": [
      "s\n",
      "p\n",
      "o\n",
      "r\n",
      "t\n",
      "g\n",
      "y\n",
      "m\n",
      "f\n",
      "i\n",
      "t\n",
      "n\n",
      "e\n",
      "s\n",
      "s\n"
     ]
    }
   ],
   "metadata": {}
  },
  {
   "cell_type": "code",
   "execution_count": 9,
   "source": [
    "for char in zip('abcs', '12345'):\r\n",
    "    print(char)"
   ],
   "outputs": [
    {
     "output_type": "stream",
     "name": "stdout",
     "text": [
      "('a', '1')\n",
      "('b', '2')\n",
      "('c', '3')\n",
      "('s', '4')\n"
     ]
    }
   ],
   "metadata": {}
  },
  {
   "cell_type": "code",
   "execution_count": 10,
   "source": [
    "for char, number in zip('abcs', '12345'):\r\n",
    "    print(char, number)"
   ],
   "outputs": [
    {
     "output_type": "stream",
     "name": "stdout",
     "text": [
      "a 1\n",
      "b 2\n",
      "c 3\n",
      "s 4\n"
     ]
    }
   ],
   "metadata": {}
  },
  {
   "cell_type": "code",
   "execution_count": 3,
   "source": [
    "hashtags = '#sport#gym#fitness#'\r\n",
    "result = ''\r\n",
    "\r\n",
    "for char in hashtags:\r\n",
    "    if char != '#':\r\n",
    "        result = result + char\r\n",
    "    else: \r\n",
    "        print(result)\r\n",
    "        result = ''\r\n"
   ],
   "outputs": [
    {
     "output_type": "stream",
     "name": "stdout",
     "text": [
      "\n",
      "sport\n",
      "gym\n",
      "fitness\n"
     ]
    }
   ],
   "metadata": {}
  },
  {
   "cell_type": "code",
   "execution_count": 4,
   "source": [
    "for i in range(21):\r\n",
    "    print(i)"
   ],
   "outputs": [
    {
     "output_type": "stream",
     "name": "stdout",
     "text": [
      "0\n",
      "1\n",
      "2\n",
      "3\n",
      "4\n",
      "5\n",
      "6\n",
      "7\n",
      "8\n",
      "9\n",
      "10\n",
      "11\n",
      "12\n",
      "13\n",
      "14\n",
      "15\n",
      "16\n",
      "17\n",
      "18\n",
      "19\n",
      "20\n"
     ]
    }
   ],
   "metadata": {}
  },
  {
   "cell_type": "code",
   "execution_count": 5,
   "source": [
    "hashtags = '#weekend#good#time#'\r\n",
    "result = ''\r\n",
    "\r\n",
    "for i in hashtags:\r\n",
    "    if i != '#':\r\n",
    "        result = result + i\r\n",
    "    else:\r\n",
    "        print(result)\r\n",
    "        result= ''"
   ],
   "outputs": [
    {
     "output_type": "stream",
     "name": "stdout",
     "text": [
      "\n",
      "weekend\n",
      "good\n",
      "time\n"
     ]
    }
   ],
   "metadata": {}
  },
  {
   "cell_type": "code",
   "execution_count": null,
   "source": [],
   "outputs": [],
   "metadata": {}
  }
 ],
 "metadata": {
  "orig_nbformat": 4,
  "language_info": {
   "name": "python",
   "version": "3.8.8",
   "mimetype": "text/x-python",
   "codemirror_mode": {
    "name": "ipython",
    "version": 3
   },
   "pygments_lexer": "ipython3",
   "nbconvert_exporter": "python",
   "file_extension": ".py"
  },
  "kernelspec": {
   "name": "python3",
   "display_name": "Python 3.8.8 64-bit ('base': conda)"
  },
  "interpreter": {
   "hash": "9179e28e3dd4a147429fcfc0a6299c7867ef5c5c33c52167b434be2401c7cc31"
  }
 },
 "nbformat": 4,
 "nbformat_minor": 2
}