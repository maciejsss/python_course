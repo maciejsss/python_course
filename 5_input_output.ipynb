{
 "cells": [
  {
   "cell_type": "code",
   "execution_count": 2,
   "metadata": {},
   "outputs": [
    {
     "name": "stdout",
     "output_type": "stream",
     "text": [
      "first line\n",
      "second line\n",
      "third line"
     ]
    }
   ],
   "source": [
    "file = open('simple.txt','r')\n",
    "\n",
    "for line in file:\n",
    "    print(line, end='')\n",
    "\n",
    "file.close()"
   ]
  },
  {
   "cell_type": "code",
   "execution_count": 3,
   "metadata": {},
   "outputs": [
    {
     "name": "stdout",
     "output_type": "stream",
     "text": [
      "first line\n",
      "second line\n",
      "third line"
     ]
    }
   ],
   "source": [
    "with open('simple.txt','r') as file:\n",
    "    for line in file:\n",
    "        print(line,end='')"
   ]
  },
  {
   "cell_type": "code",
   "execution_count": 4,
   "metadata": {},
   "outputs": [
    {
     "name": "stdout",
     "output_type": "stream",
     "text": [
      "KGHM, 100\n",
      "PKN Orlen, 90\n",
      "PKO BP, 42"
     ]
    }
   ],
   "source": [
    "with open('data.txt','r') as file:\n",
    "    for line in file:\n",
    "        print(line,end='')"
   ]
  },
  {
   "cell_type": "code",
   "execution_count": 19,
   "metadata": {},
   "outputs": [
    {
     "name": "stdout",
     "output_type": "stream",
     "text": [
      "first line\n",
      "\n"
     ]
    }
   ],
   "source": [
    "with open ('simple.txt','r') as file:\n",
    "    line = file.readline()\n",
    "    print(line)"
   ]
  },
  {
   "cell_type": "code",
   "execution_count": 8,
   "metadata": {},
   "outputs": [
    {
     "name": "stdout",
     "output_type": "stream",
     "text": [
      "['first line\\n', 'second line\\n', 'third line']\n"
     ]
    }
   ],
   "source": [
    "with open ('simple.txt','r') as file:\n",
    "    lines = fileq.readlines()\n",
    "    print(lines)"
   ]
  },
  {
   "cell_type": "code",
   "execution_count": 16,
   "metadata": {},
   "outputs": [
    {
     "name": "stdout",
     "output_type": "stream",
     "text": [
      "first line\n",
      "second line\n",
      "third line"
     ]
    }
   ],
   "source": [
    "with open ('simple.txt','r') as file:\n",
    "    lines = file.readlines()\n",
    "    for line in lines:\n",
    "        print(line,end='')"
   ]
  },
  {
   "cell_type": "code",
   "execution_count": 18,
   "metadata": {},
   "outputs": [
    {
     "name": "stdout",
     "output_type": "stream",
     "text": [
      "first line\n",
      "second line\n",
      "third line"
     ]
    }
   ],
   "source": [
    "with open('simple.txt','r') as file:\n",
    "    line = file.readline()\n",
    "    while line:\n",
    "        print(line,end='')\n",
    "        line = file.readline()"
   ]
  },
  {
   "cell_type": "code",
   "execution_count": 1,
   "metadata": {},
   "outputs": [
    {
     "name": "stdout",
     "output_type": "stream",
     "text": [
      "first line\n",
      "second line\n",
      "third line\n"
     ]
    }
   ],
   "source": [
    "with open('simple.txt','r') as file:\n",
    "    lines = file.read()\n",
    "    print(lines)\n"
   ]
  },
  {
   "cell_type": "code",
   "execution_count": 3,
   "metadata": {},
   "outputs": [
    {
     "name": "stdout",
     "output_type": "stream",
     "text": [
      "['KGHM, 100\\n', 'PKN Orlen, 90\\n', 'PKO BP, 42']\n"
     ]
    }
   ],
   "source": [
    "with open ('data.txt','r') as file:\n",
    "    lines = file.readlines()\n",
    "    print(lines)"
   ]
  },
  {
   "cell_type": "code",
   "execution_count": 4,
   "metadata": {},
   "outputs": [],
   "source": [
    "techs = ['python', 'java', 'sql', 'r', 'scala']\n",
    "\n",
    "with open('techs.txt', 'w') as file:\n",
    "    for tech in techs:\n",
    "        print(tech, file=file)"
   ]
  },
  {
   "cell_type": "code",
   "execution_count": 11,
   "metadata": {},
   "outputs": [],
   "source": [
    "even_numbers = list(range(100))[::2]\n",
    "with open('numbers.txt','w') as file:\n",
    "    for number in even_numbers:\n",
    "        file.write(str(number) + '\\n')"
   ]
  },
  {
   "cell_type": "code",
   "execution_count": 12,
   "metadata": {},
   "outputs": [],
   "source": [
    "techs = ['python', 'java', 'sql', 'r', 'scala']\n",
    "\n",
    "with open('techs.txt', 'a') as file:\n",
    "    for tech in techs:\n",
    "        print(tech, file=file)"
   ]
  },
  {
   "cell_type": "code",
   "execution_count": 13,
   "metadata": {},
   "outputs": [
    {
     "name": "stdout",
     "output_type": "stream",
     "text": [
      "['python\\n', 'java\\n', 'sql\\n', 'r\\n', 'scala\\n']\n"
     ]
    }
   ],
   "source": [
    "technologies = []\n",
    "\n",
    "with open('techs.txt','r') as file:\n",
    "    for line in file:\n",
    "        technologies.append(line)\n",
    "print(technologies)"
   ]
  },
  {
   "cell_type": "code",
   "execution_count": null,
   "metadata": {},
   "outputs": [],
   "source": []
  }
 ],
 "metadata": {
  "interpreter": {
   "hash": "b3ba2566441a7c06988d0923437866b63cedc61552a5af99d1f4fb67d367b25f"
  },
  "kernelspec": {
   "display_name": "Python 3.9.7 ('base')",
   "language": "python",
   "name": "python3"
  },
  "language_info": {
   "codemirror_mode": {
    "name": "ipython",
    "version": 3
   },
   "file_extension": ".py",
   "mimetype": "text/x-python",
   "name": "python",
   "nbconvert_exporter": "python",
   "pygments_lexer": "ipython3",
   "version": "3.9.7"
  },
  "orig_nbformat": 4
 },
 "nbformat": 4,
 "nbformat_minor": 2
}
