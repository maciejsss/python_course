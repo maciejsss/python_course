{
 "metadata": {
  "language_info": {
   "codemirror_mode": {
    "name": "ipython",
    "version": 3
   },
   "file_extension": ".py",
   "mimetype": "text/x-python",
   "name": "python",
   "nbconvert_exporter": "python",
   "pygments_lexer": "ipython3",
   "version": "3.8.8"
  },
  "orig_nbformat": 4,
  "kernelspec": {
   "name": "python3",
   "display_name": "Python 3.8.8 64-bit ('base': conda)"
  },
  "interpreter": {
   "hash": "9179e28e3dd4a147429fcfc0a6299c7867ef5c5c33c52167b434be2401c7cc31"
  }
 },
 "nbformat": 4,
 "nbformat_minor": 2,
 "cells": [
  {
   "source": [
    "## Zbiory\n",
    "### lista unikalnych elementów set()"
   ],
   "cell_type": "markdown",
   "metadata": {}
  },
  {
   "cell_type": "code",
   "execution_count": 3,
   "metadata": {},
   "outputs": [
    {
     "output_type": "stream",
     "name": "stdout",
     "text": [
      "set()\n<class 'set'>\n"
     ]
    }
   ],
   "source": [
    "empty_set = set()\n",
    "print(empty_set)\n",
    "print(type(empty_set))"
   ]
  },
  {
   "cell_type": "code",
   "execution_count": 4,
   "metadata": {},
   "outputs": [
    {
     "output_type": "stream",
     "name": "stdout",
     "text": [
      "{'Java', 'SQL', 'C++', 'Python'}\n"
     ]
    }
   ],
   "source": [
    "techs = {'Python', 'Java', 'C++', 'SQL'}\n",
    "print(techs)"
   ]
  },
  {
   "cell_type": "code",
   "execution_count": 5,
   "metadata": {},
   "outputs": [
    {
     "output_type": "stream",
     "name": "stdout",
     "text": [
      "4\n"
     ]
    }
   ],
   "source": [
    "print(len(techs))"
   ]
  },
  {
   "cell_type": "code",
   "execution_count": 6,
   "metadata": {},
   "outputs": [
    {
     "output_type": "execute_result",
     "data": {
      "text/plain": [
       "{'P', 'h', 'n', 'o', 't', 'y'}"
      ]
     },
     "metadata": {},
     "execution_count": 6
    }
   ],
   "source": [
    "set('Python')"
   ]
  },
  {
   "cell_type": "code",
   "execution_count": 7,
   "metadata": {},
   "outputs": [
    {
     "output_type": "execute_result",
     "data": {
      "text/plain": [
       "{'a', 'b', 'c'}"
      ]
     },
     "metadata": {},
     "execution_count": 7
    }
   ],
   "source": [
    "set('aaaabbbccc')"
   ]
  },
  {
   "cell_type": "code",
   "execution_count": 8,
   "metadata": {},
   "outputs": [
    {
     "output_type": "execute_result",
     "data": {
      "text/plain": [
       "True"
      ]
     },
     "metadata": {},
     "execution_count": 8
    }
   ],
   "source": [
    "'Python' in techs"
   ]
  },
  {
   "cell_type": "code",
   "execution_count": 9,
   "metadata": {},
   "outputs": [],
   "source": [
    "techs.add('sas')\n",
    "techs.remove('sas')"
   ]
  },
  {
   "cell_type": "code",
   "execution_count": 10,
   "metadata": {},
   "outputs": [
    {
     "output_type": "execute_result",
     "data": {
      "text/plain": [
       "'Java'"
      ]
     },
     "metadata": {},
     "execution_count": 10
    }
   ],
   "source": [
    "techs.pop() # wyrzuca dowolny element"
   ]
  },
  {
   "cell_type": "code",
   "execution_count": 11,
   "metadata": {},
   "outputs": [
    {
     "output_type": "stream",
     "name": "stdout",
     "text": [
      "{'C++', 'SQL', 'Python'}\n"
     ]
    }
   ],
   "source": [
    "print(techs)"
   ]
  },
  {
   "cell_type": "code",
   "execution_count": 12,
   "metadata": {},
   "outputs": [],
   "source": [
    "techs.clear() # czyści wartości"
   ]
  },
  {
   "cell_type": "code",
   "execution_count": 13,
   "metadata": {},
   "outputs": [
    {
     "output_type": "execute_result",
     "data": {
      "text/plain": [
       "{1, 2, 3, 4, 8, 9}"
      ]
     },
     "metadata": {},
     "execution_count": 13
    }
   ],
   "source": [
    "A = {1, 2, 3, 4, 5, 6, 7}\n",
    "B = {5, 6, 7, 8, 9}\n",
    "C = {5, 6}\n",
    "\n",
    "\n",
    "C.issubset(A) # sprawdza czy zbiór C jest podzbiorem A \n",
    "C.issubset({5, 7})\n",
    "A.issuperset(C) # sprawdza czy A jest nadzbiorem zbioru C\n",
    "A.union(B) # suma zbiorów\n",
    "A.intersection(B) # cześć wspólna\n",
    "A.symmetric_difference(B) # element które są w A i nie ma w B i odwrotnie"
   ]
  },
  {
   "cell_type": "code",
   "execution_count": 14,
   "metadata": {},
   "outputs": [
    {
     "output_type": "execute_result",
     "data": {
      "text/plain": [
       "{1, 2, 3, 4, 5, 6, 7}"
      ]
     },
     "metadata": {},
     "execution_count": 14
    }
   ],
   "source": [
    "D = A.copy() # kopiowanie zbiorów\n",
    "D"
   ]
  },
  {
   "cell_type": "code",
   "execution_count": 15,
   "metadata": {},
   "outputs": [
    {
     "output_type": "stream",
     "name": "stdout",
     "text": [
      "18\n"
     ]
    }
   ],
   "source": [
    "x = 'Programowanie w języku Python - od A do Z'\n",
    "print(len(set(x.lower().replace('-','').replace('ę','e').replace(' ',''))))"
   ]
  },
  {
   "source": [
    "## Tuple\n",
    "### uporządkowana struktura której nie mozna zmieniać tuple()"
   ],
   "cell_type": "markdown",
   "metadata": {}
  },
  {
   "cell_type": "code",
   "execution_count": 16,
   "metadata": {},
   "outputs": [
    {
     "output_type": "stream",
     "name": "stdout",
     "text": [
      "()\n"
     ]
    }
   ],
   "source": [
    "empty_tuple = tuple()\n",
    "print(empty_tuple)"
   ]
  },
  {
   "cell_type": "code",
   "execution_count": 17,
   "metadata": {},
   "outputs": [],
   "source": [
    "amazon = ('Amazon','USA', 'Technology', 1)\n",
    "google = ('Google', 'USA', 'Technology', 2)"
   ]
  },
  {
   "cell_type": "code",
   "execution_count": 18,
   "metadata": {},
   "outputs": [],
   "source": [
    "name_google = google[0]"
   ]
  },
  {
   "cell_type": "code",
   "execution_count": 19,
   "metadata": {},
   "outputs": [],
   "source": [
    "data = (amazon, google) # zagnieżdzone tuple"
   ]
  },
  {
   "cell_type": "code",
   "execution_count": 20,
   "metadata": {},
   "outputs": [
    {
     "output_type": "stream",
     "name": "stdout",
     "text": [
      "('Maciej', 'Swiatek')\n"
     ]
    }
   ],
   "source": [
    "a = ('Maciej', 'Swiatek')\n",
    "print(a)"
   ]
  },
  {
   "cell_type": "code",
   "execution_count": 21,
   "metadata": {},
   "outputs": [],
   "source": [
    "imie = 'Maciej'\n",
    "nazwisko = 'Swiatek'\n"
   ]
  },
  {
   "cell_type": "code",
   "execution_count": 22,
   "metadata": {},
   "outputs": [],
   "source": [
    "imie,nazwisko = ('Maciej', 'Swiatek')\n"
   ]
  },
  {
   "cell_type": "code",
   "execution_count": 23,
   "metadata": {},
   "outputs": [],
   "source": [
    "amazon_name, country, sector, rank = amazon # przypisanie elementów tupli do zmiennych"
   ]
  },
  {
   "cell_type": "code",
   "execution_count": 24,
   "metadata": {},
   "outputs": [
    {
     "output_type": "execute_result",
     "data": {
      "text/plain": [
       "('Amazon', 'Apple', 'IBM')"
      ]
     },
     "metadata": {},
     "execution_count": 24
    }
   ],
   "source": [
    "stocks = 'Amazon', 'Apple', 'IBM' # inna definicja tupli\n",
    "stocks"
   ]
  },
  {
   "cell_type": "code",
   "execution_count": 25,
   "metadata": {},
   "outputs": [
    {
     "output_type": "execute_result",
     "data": {
      "text/plain": [
       "('Europa', 'Polska', ('Warszawa', 'Krakow', 'Wroclaw'))"
      ]
     },
     "metadata": {},
     "execution_count": 25
    }
   ],
   "source": [
    "nested = 'Europa', 'Polska', ('Warszawa', 'Krakow', 'Wroclaw')\n",
    "nested"
   ]
  },
  {
   "cell_type": "code",
   "execution_count": 26,
   "metadata": {},
   "outputs": [
    {
     "output_type": "stream",
     "name": "stdout",
     "text": [
      "14 12\n"
     ]
    }
   ],
   "source": [
    "a = 12\n",
    "b = 14\n",
    "\n",
    "c = b\n",
    "b = a\n",
    "a = c\n",
    "print(a,b)"
   ]
  },
  {
   "cell_type": "code",
   "execution_count": 27,
   "metadata": {},
   "outputs": [
    {
     "output_type": "stream",
     "name": "stdout",
     "text": [
      "15 10\n"
     ]
    }
   ],
   "source": [
    "x, y = 10, 15\n",
    "x, y = y, x\n",
    "print(x,y)"
   ]
  },
  {
   "cell_type": "code",
   "execution_count": 28,
   "metadata": {},
   "outputs": [
    {
     "output_type": "stream",
     "name": "stdout",
     "text": [
      "('Python', 3.7)\n"
     ]
    }
   ],
   "source": [
    "x = 'Python'\n",
    "y = 3.7\n",
    "print((x, y))"
   ]
  },
  {
   "source": [
    "## LISTY\n",
    "### obiekty które są zmienne, uporządkowana struktura elementów, mogą być zduplikowane"
   ],
   "cell_type": "markdown",
   "metadata": {}
  },
  {
   "cell_type": "code",
   "execution_count": 29,
   "metadata": {},
   "outputs": [],
   "source": [
    "techs = ['Python', 'Java', 'C++', 'SQL', 'GO']"
   ]
  },
  {
   "cell_type": "code",
   "execution_count": 30,
   "metadata": {},
   "outputs": [],
   "source": [
    "techs[0] = 'Python 3.7'"
   ]
  },
  {
   "cell_type": "code",
   "execution_count": 31,
   "metadata": {},
   "outputs": [
    {
     "output_type": "stream",
     "name": "stdout",
     "text": [
      "['Python 3.7', 'Java', 'C++', 'SQL', 'GO']\n"
     ]
    }
   ],
   "source": [
    "print(techs)"
   ]
  },
  {
   "cell_type": "code",
   "execution_count": 32,
   "metadata": {},
   "outputs": [
    {
     "output_type": "stream",
     "name": "stdout",
     "text": [
      "[3, 5, 3, 5, 23]\n<class 'list'>\n"
     ]
    }
   ],
   "source": [
    "numbers = [3, 5, 3, 5, 23]\n",
    "print(numbers)\n",
    "print(type(numbers))"
   ]
  },
  {
   "cell_type": "code",
   "execution_count": 33,
   "metadata": {},
   "outputs": [],
   "source": [
    "mixed = ['python', 3.6, 5, True]"
   ]
  },
  {
   "cell_type": "code",
   "execution_count": 34,
   "metadata": {},
   "outputs": [],
   "source": [
    "empty_list = []"
   ]
  },
  {
   "cell_type": "code",
   "execution_count": 35,
   "metadata": {},
   "outputs": [
    {
     "output_type": "execute_result",
     "data": {
      "text/plain": [
       "[[1, 2, 3], ['Python', 'SQL', 'GO'], 3]"
      ]
     },
     "metadata": {},
     "execution_count": 35
    }
   ],
   "source": [
    "nested_list = [[1, 2, 3], ['Python', 'SQL', 'GO'], 3]\n",
    "nested_list"
   ]
  },
  {
   "cell_type": "code",
   "execution_count": 36,
   "metadata": {},
   "outputs": [
    {
     "output_type": "execute_result",
     "data": {
      "text/plain": [
       "[[1, 2, 3], ['Python', 'SQL', 'GO'], 3]"
      ]
     },
     "metadata": {},
     "execution_count": 36
    }
   ],
   "source": [
    "nested_list"
   ]
  },
  {
   "cell_type": "code",
   "execution_count": 40,
   "metadata": {},
   "outputs": [
    {
     "output_type": "execute_result",
     "data": {
      "text/plain": [
       "['mleko', 'ziemniaki', 'makaron', 'woda', 'jajka', 'scala']"
      ]
     },
     "metadata": {},
     "execution_count": 40
    }
   ],
   "source": [
    "first = ['mleko', 'ziemniaki', 'makaron']\n",
    "second = ['woda', 'jajka']\n",
    "\n",
    "bucket = [first,second] # zagnieżdzanie list\n",
    "\n",
    "first + second + ['scala'] # dodawanie list i elementów list"
   ]
  },
  {
   "cell_type": "code",
   "execution_count": 42,
   "metadata": {},
   "outputs": [
    {
     "output_type": "execute_result",
     "data": {
      "text/plain": [
       "['Python', 'Java', 'C++', 'SQL', 'GO', 'js']"
      ]
     },
     "metadata": {},
     "execution_count": 42
    }
   ],
   "source": [
    "techs = ['Python', 'Java', 'C++', 'SQL', 'GO']\n",
    "\n",
    "techs += ['js']\n",
    "techs"
   ]
  },
  {
   "cell_type": "code",
   "execution_count": 44,
   "metadata": {},
   "outputs": [
    {
     "output_type": "stream",
     "name": "stdout",
     "text": [
      "[1, 4, 2, 5, 'd', 's', 't']\n"
     ]
    }
   ],
   "source": [
    "numbers = [1, 4, 2, 5]\n",
    "letters = ['d', 's', 't']\n",
    "print(numbers + letters)"
   ]
  },
  {
   "cell_type": "code",
   "execution_count": 45,
   "metadata": {},
   "outputs": [],
   "source": [
    "index = [0, 1, 2, 3, 4, 5]\n",
    "index_neg = [-6, -5, -4, -3, -2, -1]\n",
    "lista = [34, 23, 56, 24, 23, 76]\n"
   ]
  },
  {
   "cell_type": "code",
   "execution_count": 46,
   "metadata": {},
   "outputs": [
    {
     "output_type": "execute_result",
     "data": {
      "text/plain": [
       "34"
      ]
     },
     "metadata": {},
     "execution_count": 46
    }
   ],
   "source": [
    "lista[0]"
   ]
  },
  {
   "cell_type": "code",
   "execution_count": null,
   "metadata": {},
   "outputs": [],
   "source": []
  }
 ]
}