{
 "metadata": {
  "language_info": {
   "codemirror_mode": {
    "name": "ipython",
    "version": 3
   },
   "file_extension": ".py",
   "mimetype": "text/x-python",
   "name": "python",
   "nbconvert_exporter": "python",
   "pygments_lexer": "ipython3",
   "version": "3.8.8"
  },
  "orig_nbformat": 4,
  "kernelspec": {
   "name": "python3",
   "display_name": "Python 3.8.8 64-bit ('base': conda)"
  },
  "interpreter": {
   "hash": "9179e28e3dd4a147429fcfc0a6299c7867ef5c5c33c52167b434be2401c7cc31"
  }
 },
 "nbformat": 4,
 "nbformat_minor": 2,
 "cells": [
  {
   "source": [
    "## Zbiory\n",
    "### lista unikalnych elementów set()"
   ],
   "cell_type": "markdown",
   "metadata": {}
  },
  {
   "cell_type": "code",
   "execution_count": 51,
   "metadata": {},
   "outputs": [
    {
     "output_type": "stream",
     "name": "stdout",
     "text": [
      "set()\n<class 'set'>\n"
     ]
    }
   ],
   "source": [
    "empty_set = set()\n",
    "print(empty_set)\n",
    "print(type(empty_set))"
   ]
  },
  {
   "cell_type": "code",
   "execution_count": 52,
   "metadata": {},
   "outputs": [
    {
     "output_type": "stream",
     "name": "stdout",
     "text": [
      "{'C++', 'Python', 'SQL', 'Java'}\n"
     ]
    }
   ],
   "source": [
    "techs = {'Python', 'Java', 'C++', 'SQL'}\n",
    "print(techs)"
   ]
  },
  {
   "cell_type": "code",
   "execution_count": 53,
   "metadata": {},
   "outputs": [
    {
     "output_type": "stream",
     "name": "stdout",
     "text": [
      "4\n"
     ]
    }
   ],
   "source": [
    "print(len(techs))"
   ]
  },
  {
   "cell_type": "code",
   "execution_count": 54,
   "metadata": {},
   "outputs": [
    {
     "output_type": "execute_result",
     "data": {
      "text/plain": [
       "{'P', 'h', 'n', 'o', 't', 'y'}"
      ]
     },
     "metadata": {},
     "execution_count": 54
    }
   ],
   "source": [
    "set('Python')"
   ]
  },
  {
   "cell_type": "code",
   "execution_count": 55,
   "metadata": {},
   "outputs": [
    {
     "output_type": "execute_result",
     "data": {
      "text/plain": [
       "{'a', 'b', 'c'}"
      ]
     },
     "metadata": {},
     "execution_count": 55
    }
   ],
   "source": [
    "set('aaaabbbccc')"
   ]
  },
  {
   "cell_type": "code",
   "execution_count": 56,
   "metadata": {},
   "outputs": [
    {
     "output_type": "execute_result",
     "data": {
      "text/plain": [
       "True"
      ]
     },
     "metadata": {},
     "execution_count": 56
    }
   ],
   "source": [
    "'Python' in techs"
   ]
  },
  {
   "cell_type": "code",
   "execution_count": 57,
   "metadata": {},
   "outputs": [],
   "source": [
    "techs.add('sas')\n",
    "techs.remove('sas')"
   ]
  },
  {
   "cell_type": "code",
   "execution_count": 58,
   "metadata": {},
   "outputs": [
    {
     "output_type": "execute_result",
     "data": {
      "text/plain": [
       "'C++'"
      ]
     },
     "metadata": {},
     "execution_count": 58
    }
   ],
   "source": [
    "techs.pop() # wyrzuca dowolny element"
   ]
  },
  {
   "cell_type": "code",
   "execution_count": 59,
   "metadata": {},
   "outputs": [
    {
     "output_type": "stream",
     "name": "stdout",
     "text": [
      "{'Java', 'SQL', 'Python'}\n"
     ]
    }
   ],
   "source": [
    "print(techs)"
   ]
  },
  {
   "cell_type": "code",
   "execution_count": 60,
   "metadata": {},
   "outputs": [],
   "source": [
    "techs.clear() # czyści wartości"
   ]
  },
  {
   "cell_type": "code",
   "execution_count": 61,
   "metadata": {},
   "outputs": [
    {
     "output_type": "execute_result",
     "data": {
      "text/plain": [
       "{1, 2, 3, 4, 8, 9}"
      ]
     },
     "metadata": {},
     "execution_count": 61
    }
   ],
   "source": [
    "A = {1, 2, 3, 4, 5, 6, 7}\n",
    "B = {5, 6, 7, 8, 9}\n",
    "C = {5, 6}\n",
    "\n",
    "\n",
    "C.issubset(A) # sprawdza czy zbiór C jest podzbiorem A \n",
    "C.issubset({5, 7})\n",
    "A.issuperset(C) # sprawdza czy A jest nadzbiorem zbioru C\n",
    "A.union(B) # suma zbiorów\n",
    "A.intersection(B) # cześć wspólna\n",
    "A.symmetric_difference(B) # element które są w A i nie ma w B i odwrotnie"
   ]
  },
  {
   "cell_type": "code",
   "execution_count": 62,
   "metadata": {},
   "outputs": [
    {
     "output_type": "execute_result",
     "data": {
      "text/plain": [
       "{1, 2, 3, 4, 5, 6, 7}"
      ]
     },
     "metadata": {},
     "execution_count": 62
    }
   ],
   "source": [
    "D = A.copy() # kopiowanie zbiorów\n",
    "D"
   ]
  },
  {
   "cell_type": "code",
   "execution_count": 63,
   "metadata": {},
   "outputs": [
    {
     "output_type": "stream",
     "name": "stdout",
     "text": [
      "18\n"
     ]
    }
   ],
   "source": [
    "x = 'Programowanie w języku Python - od A do Z'\n",
    "print(len(set(x.lower().replace('-','').replace('ę','e').replace(' ',''))))"
   ]
  },
  {
   "source": [
    "## Tuple\n",
    "### uporządkowana struktura której nie mozna zmieniać tuple()"
   ],
   "cell_type": "markdown",
   "metadata": {}
  },
  {
   "cell_type": "code",
   "execution_count": 64,
   "metadata": {},
   "outputs": [
    {
     "output_type": "stream",
     "name": "stdout",
     "text": [
      "()\n"
     ]
    }
   ],
   "source": [
    "empty_tuple = tuple()\n",
    "print(empty_tuple)"
   ]
  },
  {
   "cell_type": "code",
   "execution_count": 65,
   "metadata": {},
   "outputs": [],
   "source": [
    "amazon = ('Amazon','USA', 'Technology', 1)\n",
    "google = ('Google', 'USA', 'Technology', 2)"
   ]
  },
  {
   "cell_type": "code",
   "execution_count": 66,
   "metadata": {},
   "outputs": [],
   "source": [
    "name_google = google[0]"
   ]
  },
  {
   "cell_type": "code",
   "execution_count": 67,
   "metadata": {},
   "outputs": [],
   "source": [
    "data = (amazon, google) # zagnieżdzone tuple"
   ]
  },
  {
   "cell_type": "code",
   "execution_count": 68,
   "metadata": {},
   "outputs": [
    {
     "output_type": "stream",
     "name": "stdout",
     "text": [
      "('Maciej', 'Swiatek')\n"
     ]
    }
   ],
   "source": [
    "a = ('Maciej', 'Swiatek')\n",
    "print(a)"
   ]
  },
  {
   "cell_type": "code",
   "execution_count": 69,
   "metadata": {},
   "outputs": [],
   "source": [
    "imie = 'Maciej'\n",
    "nazwisko = 'Swiatek'\n"
   ]
  },
  {
   "cell_type": "code",
   "execution_count": 70,
   "metadata": {},
   "outputs": [],
   "source": [
    "imie,nazwisko = ('Maciej', 'Swiatek')\n"
   ]
  },
  {
   "cell_type": "code",
   "execution_count": 71,
   "metadata": {},
   "outputs": [],
   "source": [
    "amazon_name, country, sector, rank = amazon # przypisanie elementów tupli do zmiennych"
   ]
  },
  {
   "cell_type": "code",
   "execution_count": 72,
   "metadata": {},
   "outputs": [
    {
     "output_type": "execute_result",
     "data": {
      "text/plain": [
       "('Amazon', 'Apple', 'IBM')"
      ]
     },
     "metadata": {},
     "execution_count": 72
    }
   ],
   "source": [
    "stocks = 'Amazon', 'Apple', 'IBM' # inna definicja tupli\n",
    "stocks"
   ]
  },
  {
   "cell_type": "code",
   "execution_count": 73,
   "metadata": {},
   "outputs": [
    {
     "output_type": "execute_result",
     "data": {
      "text/plain": [
       "('Europa', 'Polska', ('Warszawa', 'Krakow', 'Wroclaw'))"
      ]
     },
     "metadata": {},
     "execution_count": 73
    }
   ],
   "source": [
    "nested = 'Europa', 'Polska', ('Warszawa', 'Krakow', 'Wroclaw')\n",
    "nested"
   ]
  },
  {
   "cell_type": "code",
   "execution_count": 74,
   "metadata": {},
   "outputs": [
    {
     "output_type": "stream",
     "name": "stdout",
     "text": [
      "14 12\n"
     ]
    }
   ],
   "source": [
    "a = 12\n",
    "b = 14\n",
    "\n",
    "c = b\n",
    "b = a\n",
    "a = c\n",
    "print(a,b)"
   ]
  },
  {
   "cell_type": "code",
   "execution_count": 75,
   "metadata": {},
   "outputs": [
    {
     "output_type": "stream",
     "name": "stdout",
     "text": [
      "15 10\n"
     ]
    }
   ],
   "source": [
    "x, y = 10, 15\n",
    "x, y = y, x\n",
    "print(x,y)"
   ]
  },
  {
   "cell_type": "code",
   "execution_count": 76,
   "metadata": {},
   "outputs": [
    {
     "output_type": "stream",
     "name": "stdout",
     "text": [
      "('Python', 3.7)\n"
     ]
    }
   ],
   "source": [
    "x = 'Python'\n",
    "y = 3.7\n",
    "print((x, y))"
   ]
  },
  {
   "source": [
    "## LISTY\n",
    "### obiekty które są zmienne, uporządkowana struktura elementów, mogą być zduplikowane"
   ],
   "cell_type": "markdown",
   "metadata": {}
  },
  {
   "cell_type": "code",
   "execution_count": 77,
   "metadata": {},
   "outputs": [],
   "source": [
    "techs = ['Python', 'Java', 'C++', 'SQL', 'GO']"
   ]
  },
  {
   "cell_type": "code",
   "execution_count": 78,
   "metadata": {},
   "outputs": [],
   "source": [
    "techs[0] = 'Python 3.7'"
   ]
  },
  {
   "cell_type": "code",
   "execution_count": 79,
   "metadata": {},
   "outputs": [
    {
     "output_type": "stream",
     "name": "stdout",
     "text": [
      "['Python 3.7', 'Java', 'C++', 'SQL', 'GO']\n"
     ]
    }
   ],
   "source": [
    "print(techs)"
   ]
  },
  {
   "cell_type": "code",
   "execution_count": 80,
   "metadata": {},
   "outputs": [
    {
     "output_type": "stream",
     "name": "stdout",
     "text": [
      "[3, 5, 3, 5, 23]\n<class 'list'>\n"
     ]
    }
   ],
   "source": [
    "numbers = [3, 5, 3, 5, 23]\n",
    "print(numbers)\n",
    "print(type(numbers))"
   ]
  },
  {
   "cell_type": "code",
   "execution_count": 81,
   "metadata": {},
   "outputs": [],
   "source": [
    "mixed = ['python', 3.6, 5, True]"
   ]
  },
  {
   "cell_type": "code",
   "execution_count": 82,
   "metadata": {},
   "outputs": [],
   "source": [
    "empty_list = []"
   ]
  },
  {
   "cell_type": "code",
   "execution_count": 83,
   "metadata": {},
   "outputs": [
    {
     "output_type": "execute_result",
     "data": {
      "text/plain": [
       "[[1, 2, 3], ['Python', 'SQL', 'GO'], 3]"
      ]
     },
     "metadata": {},
     "execution_count": 83
    }
   ],
   "source": [
    "nested_list = [[1, 2, 3], ['Python', 'SQL', 'GO'], 3]\n",
    "nested_list"
   ]
  },
  {
   "cell_type": "code",
   "execution_count": 84,
   "metadata": {},
   "outputs": [
    {
     "output_type": "execute_result",
     "data": {
      "text/plain": [
       "[[1, 2, 3], ['Python', 'SQL', 'GO'], 3]"
      ]
     },
     "metadata": {},
     "execution_count": 84
    }
   ],
   "source": [
    "nested_list"
   ]
  },
  {
   "cell_type": "code",
   "execution_count": 85,
   "metadata": {},
   "outputs": [
    {
     "output_type": "execute_result",
     "data": {
      "text/plain": [
       "['mleko', 'ziemniaki', 'makaron', 'woda', 'jajka', 'scala']"
      ]
     },
     "metadata": {},
     "execution_count": 85
    }
   ],
   "source": [
    "first = ['mleko', 'ziemniaki', 'makaron']\n",
    "second = ['woda', 'jajka']\n",
    "\n",
    "bucket = [first,second] # zagnieżdzanie list\n",
    "\n",
    "first + second + ['scala'] # dodawanie list i elementów list"
   ]
  },
  {
   "cell_type": "code",
   "execution_count": 86,
   "metadata": {},
   "outputs": [
    {
     "output_type": "execute_result",
     "data": {
      "text/plain": [
       "['Python', 'Java', 'C++', 'SQL', 'GO', 'js']"
      ]
     },
     "metadata": {},
     "execution_count": 86
    }
   ],
   "source": [
    "techs = ['Python', 'Java', 'C++', 'SQL', 'GO']\n",
    "\n",
    "techs += ['js']\n",
    "techs"
   ]
  },
  {
   "cell_type": "code",
   "execution_count": 87,
   "metadata": {},
   "outputs": [
    {
     "output_type": "stream",
     "name": "stdout",
     "text": [
      "[1, 4, 2, 5, 'd', 's', 't']\n"
     ]
    }
   ],
   "source": [
    "numbers = [1, 4, 2, 5]\n",
    "letters = ['d', 's', 't']\n",
    "print(numbers + letters)"
   ]
  },
  {
   "cell_type": "code",
   "execution_count": 88,
   "metadata": {},
   "outputs": [],
   "source": [
    "index = [0, 1, 2, 3, 4, 5]\n",
    "index_neg = [-6, -5, -4, -3, -2, -1]\n",
    "lista = [34, 23, 56, 24, 23, 76]\n"
   ]
  },
  {
   "cell_type": "code",
   "execution_count": 89,
   "metadata": {},
   "outputs": [
    {
     "output_type": "execute_result",
     "data": {
      "text/plain": [
       "[76, 23, 24, 56, 23, 34]"
      ]
     },
     "metadata": {},
     "execution_count": 89
    }
   ],
   "source": [
    "lista[0]\n",
    "lista[1:5]\n",
    "lista[-5:-1]\n",
    "lista[::-1] # odwrócona lista"
   ]
  },
  {
   "cell_type": "code",
   "execution_count": 90,
   "metadata": {},
   "outputs": [
    {
     "output_type": "stream",
     "name": "stdout",
     "text": [
      "python\n"
     ]
    }
   ],
   "source": [
    "techs = ['java', 'python', 'spark', 'hadoop', 'r']\n",
    "print(techs[1])"
   ]
  },
  {
   "source": [
    "## Metody listy"
   ],
   "cell_type": "markdown",
   "metadata": {}
  },
  {
   "cell_type": "code",
   "execution_count": 91,
   "metadata": {},
   "outputs": [
    {
     "output_type": "stream",
     "name": "stdout",
     "text": [
      "[]\n"
     ]
    }
   ],
   "source": [
    "techs = []\n",
    "print(techs)"
   ]
  },
  {
   "cell_type": "code",
   "execution_count": 92,
   "metadata": {},
   "outputs": [
    {
     "output_type": "stream",
     "name": "stdout",
     "text": [
      "['python']\n"
     ]
    }
   ],
   "source": [
    "techs.append('python') #dodawanie do listy na koniec\n",
    "print(techs)"
   ]
  },
  {
   "cell_type": "code",
   "execution_count": 93,
   "metadata": {},
   "outputs": [
    {
     "output_type": "stream",
     "name": "stdout",
     "text": [
      "['python', ['python', 'c++']]\n"
     ]
    }
   ],
   "source": [
    "techs.append(['python','c++']) #dodanie listy do listy\n",
    "print(techs)\n"
   ]
  },
  {
   "cell_type": "code",
   "execution_count": 94,
   "metadata": {},
   "outputs": [
    {
     "output_type": "stream",
     "name": "stdout",
     "text": [
      "['python', ['python', 'c++'], 'sql', 'spark']\n"
     ]
    }
   ],
   "source": [
    "techs.extend(['sql', 'spark']) #dodawanie wielu elementów do listy\n",
    "print(techs)"
   ]
  },
  {
   "cell_type": "code",
   "execution_count": 95,
   "metadata": {},
   "outputs": [
    {
     "output_type": "execute_result",
     "data": {
      "text/plain": [
       "['go', 'python', ['python', 'c++'], 'sql', 'spark']"
      ]
     },
     "metadata": {},
     "execution_count": 95
    }
   ],
   "source": [
    "techs.insert(0,'go') #dodawnie w konkretne miejsce index, wartosc\n",
    "techs"
   ]
  },
  {
   "cell_type": "code",
   "execution_count": 96,
   "metadata": {},
   "outputs": [
    {
     "output_type": "execute_result",
     "data": {
      "text/plain": [
       "['go', 'python', 'r', ['python', 'c++'], 'sql', 'spark']"
      ]
     },
     "metadata": {},
     "execution_count": 96
    }
   ],
   "source": [
    "techs.insert(2,'r')\n",
    "techs"
   ]
  },
  {
   "cell_type": "code",
   "execution_count": 97,
   "metadata": {},
   "outputs": [
    {
     "output_type": "execute_result",
     "data": {
      "text/plain": [
       "'spark'"
      ]
     },
     "metadata": {},
     "execution_count": 97
    }
   ],
   "source": [
    "techs.pop() #usuwa ostatni element i zwaraca jako output"
   ]
  },
  {
   "cell_type": "code",
   "execution_count": 98,
   "metadata": {},
   "outputs": [
    {
     "output_type": "execute_result",
     "data": {
      "text/plain": [
       "'python'"
      ]
     },
     "metadata": {},
     "execution_count": 98
    }
   ],
   "source": [
    "techs.pop(1) #wskazujemu który element ma być wyrwany"
   ]
  },
  {
   "cell_type": "code",
   "execution_count": 99,
   "metadata": {},
   "outputs": [
    {
     "output_type": "execute_result",
     "data": {
      "text/plain": [
       "['go', 'r', ['python', 'c++'], 'sql']"
      ]
     },
     "metadata": {},
     "execution_count": 99
    }
   ],
   "source": [
    "techs"
   ]
  },
  {
   "cell_type": "code",
   "execution_count": 100,
   "metadata": {},
   "outputs": [
    {
     "output_type": "execute_result",
     "data": {
      "text/plain": [
       "0"
      ]
     },
     "metadata": {},
     "execution_count": 100
    }
   ],
   "source": [
    "techs.index('go') #zwraca wartosc indexu elementu"
   ]
  },
  {
   "cell_type": "code",
   "execution_count": 101,
   "metadata": {},
   "outputs": [],
   "source": [
    "techs = ['java', 'python', 'spark', 'hadoop', 'r']"
   ]
  },
  {
   "cell_type": "code",
   "execution_count": 102,
   "metadata": {},
   "outputs": [
    {
     "output_type": "execute_result",
     "data": {
      "text/plain": [
       "1"
      ]
     },
     "metadata": {},
     "execution_count": 102
    }
   ],
   "source": [
    "techs.count('r')"
   ]
  },
  {
   "cell_type": "code",
   "execution_count": 104,
   "metadata": {},
   "outputs": [
    {
     "output_type": "execute_result",
     "data": {
      "text/plain": [
       "['hadoop', 'java', 'python', 'r', 'spark']"
      ]
     },
     "metadata": {},
     "execution_count": 104
    }
   ],
   "source": [
    "techs.sort() #sortuje alfabetycznie\n",
    "techs"
   ]
  },
  {
   "cell_type": "code",
   "execution_count": 108,
   "metadata": {},
   "outputs": [
    {
     "output_type": "execute_result",
     "data": {
      "text/plain": [
       "['spark', 'r', 'python', 'java', 'hadoop']"
      ]
     },
     "metadata": {},
     "execution_count": 108
    }
   ],
   "source": [
    "techs.sort(reverse=True)\n",
    "techs"
   ]
  },
  {
   "cell_type": "code",
   "execution_count": 110,
   "metadata": {},
   "outputs": [
    {
     "output_type": "execute_result",
     "data": {
      "text/plain": [
       "['spark', 'r', 'python', 'java', 'hadoop']"
      ]
     },
     "metadata": {},
     "execution_count": 110
    }
   ],
   "source": [
    "techs.reverse() #odwraca na stałe\n",
    "techs"
   ]
  },
  {
   "cell_type": "code",
   "execution_count": 111,
   "metadata": {},
   "outputs": [
    {
     "output_type": "execute_result",
     "data": {
      "text/plain": [
       "['spark', 'c++', 'python', 'java', 'hadoop']"
      ]
     },
     "metadata": {},
     "execution_count": 111
    }
   ],
   "source": [
    "techs[1] = 'c++' #podmiana elementu\n",
    "techs"
   ]
  },
  {
   "cell_type": "code",
   "execution_count": 113,
   "metadata": {},
   "outputs": [
    {
     "output_type": "stream",
     "name": "stdout",
     "text": [
      "[4, 5, 3, 3, 9, 7]\n"
     ]
    }
   ],
   "source": [
    "list_1 = [4,5,3,3]\n",
    "list_2 = [9,7]\n",
    "\n",
    "print(list_1 + list_2)"
   ]
  },
  {
   "cell_type": "code",
   "execution_count": 114,
   "metadata": {},
   "outputs": [
    {
     "output_type": "stream",
     "name": "stdout",
     "text": [
      "['Apple', 'Microsoft', 'Samsung', 'Netflix', 'Uber', 'Amazon', 'Google']\n"
     ]
    }
   ],
   "source": [
    "l1 = ['Apple', 'Microsoft', 'Samsung', 'Netflix', 'Uber']\n",
    "l1.extend(['Amazon', 'Google'])\n",
    "print(l1)"
   ]
  },
  {
   "source": [
    "## Słowniki \n",
    "### para klucz : wartosc, klucze nie mogą się powtarzać w obrębie jednego słownika"
   ],
   "cell_type": "markdown",
   "metadata": {}
  },
  {
   "cell_type": "code",
   "execution_count": 117,
   "metadata": {},
   "outputs": [
    {
     "output_type": "stream",
     "name": "stdout",
     "text": [
      "{}\n"
     ]
    }
   ],
   "source": [
    "empty_dict = dict()\n",
    "print(empty_dict)\n",
    "\n",
    "d = {}"
   ]
  },
  {
   "cell_type": "code",
   "execution_count": 127,
   "metadata": {},
   "outputs": [
    {
     "output_type": "execute_result",
     "data": {
      "text/plain": [
       "{'jeden': 'one', 'dwa': 'two', 'trzy': 'three'}"
      ]
     },
     "metadata": {},
     "execution_count": 127
    }
   ],
   "source": [
    "pol_to_end = {'jeden':'one','dwa':'two','trzy':'three'}\n",
    "pol_to_end"
   ]
  },
  {
   "cell_type": "code",
   "execution_count": 121,
   "metadata": {},
   "outputs": [
    {
     "output_type": "execute_result",
     "data": {
      "text/plain": [
       "{'jeden': 1, 'dwa': 2, 'trzy': 3}"
      ]
     },
     "metadata": {},
     "execution_count": 121
    }
   ],
   "source": [
    "name_to_digit = {'jeden':1, 'dwa':2, 'trzy':3}\n",
    "name_to_digit"
   ]
  },
  {
   "cell_type": "code",
   "execution_count": 122,
   "metadata": {},
   "outputs": [
    {
     "output_type": "execute_result",
     "data": {
      "text/plain": [
       "3"
      ]
     },
     "metadata": {},
     "execution_count": 122
    }
   ],
   "source": [
    "len(name_to_digit)"
   ]
  },
  {
   "cell_type": "code",
   "execution_count": 123,
   "metadata": {},
   "outputs": [],
   "source": [
    "pol_to_end['cztery'] = 'four' #dodanie elementu do słownika"
   ]
  },
  {
   "cell_type": "code",
   "execution_count": 124,
   "metadata": {},
   "outputs": [
    {
     "output_type": "execute_result",
     "data": {
      "text/plain": [
       "{'jeden': 'one', 'dwa': 'two', 'trzy': 'three', 'cztery': 'four'}"
      ]
     },
     "metadata": {},
     "execution_count": 124
    }
   ],
   "source": [
    "pol_to_end"
   ]
  },
  {
   "cell_type": "code",
   "execution_count": 125,
   "metadata": {},
   "outputs": [],
   "source": [
    "pol_to_end.clear()"
   ]
  },
  {
   "cell_type": "code",
   "execution_count": 129,
   "metadata": {},
   "outputs": [],
   "source": [
    "pol_to_end_copied = pol_to_end.copy() #kopiowanie   "
   ]
  },
  {
   "cell_type": "code",
   "execution_count": 130,
   "metadata": {},
   "outputs": [
    {
     "output_type": "execute_result",
     "data": {
      "text/plain": [
       "dict_keys(['jeden', 'dwa', 'trzy'])"
      ]
     },
     "metadata": {},
     "execution_count": 130
    }
   ],
   "source": [
    "pol_to_end.keys() #zwraca klucze"
   ]
  },
  {
   "cell_type": "code",
   "execution_count": 131,
   "metadata": {},
   "outputs": [
    {
     "output_type": "execute_result",
     "data": {
      "text/plain": [
       "dict_values(['one', 'two', 'three'])"
      ]
     },
     "metadata": {},
     "execution_count": 131
    }
   ],
   "source": [
    "pol_to_end.values() #zwraca wartosci"
   ]
  },
  {
   "cell_type": "code",
   "execution_count": 132,
   "metadata": {},
   "outputs": [
    {
     "output_type": "execute_result",
     "data": {
      "text/plain": [
       "dict_items([('jeden', 'one'), ('dwa', 'two'), ('trzy', 'three')])"
      ]
     },
     "metadata": {},
     "execution_count": 132
    }
   ],
   "source": [
    "pol_to_end.items() #zwraca wszystkie wartosci jako lista tupli"
   ]
  },
  {
   "cell_type": "code",
   "execution_count": 133,
   "metadata": {},
   "outputs": [
    {
     "output_type": "execute_result",
     "data": {
      "text/plain": [
       "'one'"
      ]
     },
     "metadata": {},
     "execution_count": 133
    }
   ],
   "source": [
    "pol_to_end['jeden']"
   ]
  },
  {
   "cell_type": "code",
   "execution_count": 134,
   "metadata": {},
   "outputs": [
    {
     "output_type": "execute_result",
     "data": {
      "text/plain": [
       "'one'"
      ]
     },
     "metadata": {},
     "execution_count": 134
    }
   ],
   "source": [
    "pol_to_end.get('jeden', 'brak') #drugi argument zwraca to co jak nie ma takiego klucza"
   ]
  },
  {
   "cell_type": "code",
   "execution_count": 135,
   "metadata": {},
   "outputs": [
    {
     "output_type": "execute_result",
     "data": {
      "text/plain": [
       "'one'"
      ]
     },
     "metadata": {},
     "execution_count": 135
    }
   ],
   "source": [
    "pol_to_end.pop('jeden')"
   ]
  },
  {
   "cell_type": "code",
   "execution_count": 136,
   "metadata": {},
   "outputs": [
    {
     "output_type": "execute_result",
     "data": {
      "text/plain": [
       "{'dwa': 'two', 'trzy': 'three'}"
      ]
     },
     "metadata": {},
     "execution_count": 136
    }
   ],
   "source": [
    "pol_to_end"
   ]
  },
  {
   "cell_type": "code",
   "execution_count": 137,
   "metadata": {},
   "outputs": [],
   "source": [
    "pol_to_end.update({'jeden':1})"
   ]
  },
  {
   "cell_type": "code",
   "execution_count": 138,
   "metadata": {},
   "outputs": [
    {
     "output_type": "execute_result",
     "data": {
      "text/plain": [
       "{'dwa': 'two', 'trzy': 'three', 'jeden': 1}"
      ]
     },
     "metadata": {},
     "execution_count": 138
    }
   ],
   "source": [
    "pol_to_end"
   ]
  },
  {
   "cell_type": "code",
   "execution_count": 140,
   "metadata": {},
   "outputs": [
    {
     "output_type": "execute_result",
     "data": {
      "text/plain": [
       "{1: 1, 2: 4, 3: 9, 4: 16, 5: 25}"
      ]
     },
     "metadata": {},
     "execution_count": 140
    }
   ],
   "source": [
    "kwadraty = {1:1, 2:4, 3:9, 4:16, 5:25}\n",
    "print(kwadraty)"
   ]
  },
  {
   "cell_type": "code",
   "execution_count": 155,
   "metadata": {},
   "outputs": [
    {
     "output_type": "stream",
     "name": "stdout",
     "text": [
      "['Berlin', 'Praga', 'Rzym', 'Warszawa']\n"
     ]
    }
   ],
   "source": [
    "capitals = {'Polska': 'Warszawa', 'Niemcy': 'Berlin', 'Czechy': 'Praga'}\n",
    "capitals['Włochy'] = 'Rzym'\n",
    "cap = sorted(list(capitals.values()))\n",
    "print(cap)"
   ]
  },
  {
   "cell_type": "code",
   "execution_count": null,
   "metadata": {},
   "outputs": [],
   "source": []
  }
 ]
}