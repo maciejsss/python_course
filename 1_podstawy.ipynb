{
 "cells": [
  {
   "cell_type": "code",
   "execution_count": null,
   "metadata": {},
   "outputs": [
    {
     "name": "stdout",
     "output_type": "stream",
     "text": [
      "Hello World\n"
     ]
    }
   ],
   "source": [
    "print('Hello World')"
   ]
  },
  {
   "cell_type": "code",
   "execution_count": null,
   "metadata": {},
   "outputs": [
    {
     "data": {
      "text/plain": [
       "9"
      ]
     },
     "execution_count": 2,
     "metadata": {},
     "output_type": "execute_result"
    }
   ],
   "source": [
    "\n",
    "3 + 3 * 2"
   ]
  },
  {
   "cell_type": "code",
   "execution_count": null,
   "metadata": {},
   "outputs": [
    {
     "name": "stdout",
     "output_type": "stream",
     "text": [
      "9\n"
     ]
    }
   ],
   "source": [
    "print(3 + 3 * 2)\n"
   ]
  },
  {
   "cell_type": "code",
   "execution_count": null,
   "metadata": {},
   "outputs": [
    {
     "data": {
      "text/plain": [
       "3.3333333333333335"
      ]
     },
     "execution_count": 4,
     "metadata": {},
     "output_type": "execute_result"
    }
   ],
   "source": [
    "10 / 3"
   ]
  },
  {
   "cell_type": "code",
   "execution_count": null,
   "metadata": {},
   "outputs": [
    {
     "data": {
      "text/plain": [
       "3"
      ]
     },
     "execution_count": 5,
     "metadata": {},
     "output_type": "execute_result"
    }
   ],
   "source": [
    "10 // 3"
   ]
  },
  {
   "cell_type": "code",
   "execution_count": null,
   "metadata": {},
   "outputs": [
    {
     "name": "stdout",
     "output_type": "stream",
     "text": [
      "C:\n",
      "ew\n",
      "ew\n",
      "ew\n"
     ]
    }
   ],
   "source": [
    "# \\t tabulator\n",
    "# \\n nowa linia\n",
    "\n",
    "print('C:\\new\\new\\new')"
   ]
  },
  {
   "cell_type": "code",
   "execution_count": null,
   "metadata": {},
   "outputs": [
    {
     "name": "stdout",
     "output_type": "stream",
     "text": [
      "C:\\new\\new\\new\n"
     ]
    }
   ],
   "source": [
    "print(r'C:\\new\\new\\new') # r to row text ignoruje znaki specjalne\n"
   ]
  },
  {
   "cell_type": "code",
   "execution_count": null,
   "metadata": {},
   "outputs": [
    {
     "data": {
      "text/plain": [
       "'c:\\\\DANE\\\\PYTHON\\\\python_course'"
      ]
     },
     "execution_count": 4,
     "metadata": {},
     "output_type": "execute_result"
    }
   ],
   "source": [
    "import os\n",
    "os.getcwd()"
   ]
  },
  {
   "cell_type": "code",
   "execution_count": null,
   "metadata": {},
   "outputs": [
    {
     "name": "stdout",
     "output_type": "stream",
     "text": [
      "\n",
      "Instrukcja  uruchamiania pliku przyklad.py\n",
      "\n",
      "    --file [nazwa pliku]\n",
      "        zapisuje output do pliku\n",
      "\n",
      "    --quiet\n",
      "        wycisza logi w konsoli\n",
      "\n",
      "    \n",
      "Koniec.\n",
      "\n"
     ]
    }
   ],
   "source": [
    "print('''\n",
    "Instrukcja  uruchamiania pliku przyklad.py\n",
    "\n",
    "    --file [nazwa pliku]\n",
    "        zapisuje output do pliku\n",
    "\n",
    "    --quiet\n",
    "        wycisza logi w konsoli\n",
    "\n",
    "    \n",
    "Koniec.\n",
    "''')"
   ]
  },
  {
   "cell_type": "code",
   "execution_count": null,
   "metadata": {},
   "outputs": [
    {
     "name": "stdout",
     "output_type": "stream",
     "text": [
      "I love python. \n",
      "I love python. I love python. I love python. \n"
     ]
    }
   ],
   "source": [
    "text = 'I love python. '\n",
    "print(text)\n",
    "print(text * 3)"
   ]
  },
  {
   "cell_type": "code",
   "execution_count": null,
   "metadata": {},
   "outputs": [
    {
     "name": "stdout",
     "output_type": "stream",
     "text": [
      "tekst tekst tekst tekst tekst \n"
     ]
    }
   ],
   "source": [
    "print('tekst ' * 5)"
   ]
  },
  {
   "cell_type": "code",
   "execution_count": null,
   "metadata": {},
   "outputs": [
    {
     "data": {
      "text/plain": [
       "'Python'"
      ]
     },
     "execution_count": 15,
     "metadata": {},
     "output_type": "execute_result"
    }
   ],
   "source": [
    "'Python'\n",
    "'Pyt' 'hon' ## domyślnie sklejone"
   ]
  },
  {
   "cell_type": "code",
   "execution_count": null,
   "metadata": {},
   "outputs": [
    {
     "data": {
      "text/plain": [
       "'https://www.udemy.com/course/programowanie-w-jezyku-python/learn/lecture/15714542?start=30#questions'"
      ]
     },
     "execution_count": 16,
     "metadata": {},
     "output_type": "execute_result"
    }
   ],
   "source": [
    "url = 'https://www.udemy.com/course/programowanie-w-jezyku-python/learn/lecture/15714542?start=30#questions'"
   ]
  },
  {
   "cell_type": "code",
   "execution_count": null,
   "metadata": {},
   "outputs": [
    {
     "name": "stdout",
     "output_type": "stream",
     "text": [
      "Python\n"
     ]
    }
   ],
   "source": [
    "name = 'Python'\n",
    "print(name)"
   ]
  },
  {
   "cell_type": "code",
   "execution_count": null,
   "metadata": {},
   "outputs": [
    {
     "name": "stdout",
     "output_type": "stream",
     "text": [
      "Python3.5\n",
      "Python 3,5\n"
     ]
    }
   ],
   "source": [
    "print(name + '3.5')\n",
    "print(name, '3,5')"
   ]
  },
  {
   "cell_type": "code",
   "execution_count": null,
   "metadata": {},
   "outputs": [
    {
     "name": "stdout",
     "output_type": "stream",
     "text": [
      "Mąciej 27\n"
     ]
    }
   ],
   "source": [
    "age = 27\n",
    "imie = 'Mąciej'\n",
    "\n",
    "print(imie, str(age))"
   ]
  },
  {
   "cell_type": "code",
   "execution_count": null,
   "metadata": {},
   "outputs": [
    {
     "name": "stdout",
     "output_type": "stream",
     "text": [
      "Mąciej ma 27 lat\n",
      "Mąciej ma 27 lat\n",
      "27 ma Mąciej lat\n"
     ]
    }
   ],
   "source": [
    "print('{} ma {} lat'.format(imie,age))\n",
    "print('{0} ma {1} lat'.format(imie,age))\n",
    "print('{1} ma {0} lat'.format(imie,age))\n",
    "\n"
   ]
  },
  {
   "cell_type": "code",
   "execution_count": null,
   "metadata": {},
   "outputs": [
    {
     "name": "stdout",
     "output_type": "stream",
     "text": [
      "40\n"
     ]
    }
   ],
   "source": [
    "saldo = 40\n",
    "print(saldo)"
   ]
  },
  {
   "cell_type": "code",
   "execution_count": null,
   "metadata": {},
   "outputs": [
    {
     "data": {
      "text/plain": [
       "1040.0"
      ]
     },
     "execution_count": 4,
     "metadata": {},
     "output_type": "execute_result"
    }
   ],
   "source": [
    "saldo = saldo + 10\n",
    "saldo += 10\n",
    "\n",
    "lokata = 1000\n",
    "czynnik_akumulacyjny = 1 + 0.04\n",
    "\n",
    "lokata_po_roku = lokata * czynnik_akumulacyjny\n",
    "lokata_po_roku"
   ]
  },
  {
   "cell_type": "code",
   "execution_count": null,
   "metadata": {},
   "outputs": [
    {
     "name": "stdout",
     "output_type": "stream",
     "text": [
      "0.5882352941176471\n"
     ]
    }
   ],
   "source": [
    "pixel = 150\n",
    "pixel /= 255\n",
    "print(pixel)"
   ]
  },
  {
   "cell_type": "code",
   "execution_count": null,
   "metadata": {},
   "outputs": [
    {
     "name": "stdout",
     "output_type": "stream",
     "text": [
      "32\n"
     ]
    }
   ],
   "source": [
    "base = 2\n",
    "base **= 5\n",
    "print(base)"
   ]
  },
  {
   "cell_type": "code",
   "execution_count": null,
   "metadata": {},
   "outputs": [],
   "source": [
    "imie = 'Maciej'\n",
    "nazwisko = 'Światek'\n",
    "\n",
    "imie += nazwisko\n",
    "\n"
   ]
  },
  {
   "cell_type": "code",
   "execution_count": null,
   "metadata": {},
   "outputs": [],
   "source": []
  }
 ],
 "metadata": {
  "interpreter": {
   "hash": "9179e28e3dd4a147429fcfc0a6299c7867ef5c5c33c52167b434be2401c7cc31"
  },
  "kernelspec": {
   "display_name": "Python 3.8.8 64-bit ('base': conda)",
   "name": "python3"
  },
  "language_info": {
   "codemirror_mode": {
    "name": "ipython",
    "version": 3
   },
   "file_extension": ".py",
   "mimetype": "text/x-python",
   "name": "python",
   "nbconvert_exporter": "python",
   "pygments_lexer": "ipython3",
   "version": "3.8.8"
  },
  "orig_nbformat": 4
 },
 "nbformat": 4,
 "nbformat_minor": 2
}
