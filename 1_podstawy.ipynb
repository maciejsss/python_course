{
 "metadata": {
  "language_info": {
   "codemirror_mode": {
    "name": "ipython",
    "version": 3
   },
   "file_extension": ".py",
   "mimetype": "text/x-python",
   "name": "python",
   "nbconvert_exporter": "python",
   "pygments_lexer": "ipython3",
   "version": "3.8.8"
  },
  "orig_nbformat": 4,
  "kernelspec": {
   "name": "python3",
   "display_name": "Python 3.8.8 64-bit ('base': conda)"
  },
  "interpreter": {
   "hash": "9179e28e3dd4a147429fcfc0a6299c7867ef5c5c33c52167b434be2401c7cc31"
  }
 },
 "nbformat": 4,
 "nbformat_minor": 2,
 "cells": [
  {
   "cell_type": "code",
   "execution_count": 1,
   "metadata": {},
   "outputs": [
    {
     "output_type": "stream",
     "name": "stdout",
     "text": [
      "Hello World\n"
     ]
    }
   ],
   "source": [
    "print('Hello World')"
   ]
  },
  {
   "cell_type": "code",
   "execution_count": 2,
   "metadata": {},
   "outputs": [
    {
     "output_type": "execute_result",
     "data": {
      "text/plain": [
       "9"
      ]
     },
     "metadata": {},
     "execution_count": 2
    }
   ],
   "source": [
    "3 + 3 * 2"
   ]
  },
  {
   "cell_type": "code",
   "execution_count": 3,
   "metadata": {},
   "outputs": [
    {
     "output_type": "stream",
     "name": "stdout",
     "text": [
      "9\n"
     ]
    }
   ],
   "source": [
    "print(3 + 3 * 2)\n"
   ]
  },
  {
   "cell_type": "code",
   "execution_count": 4,
   "metadata": {},
   "outputs": [
    {
     "output_type": "execute_result",
     "data": {
      "text/plain": [
       "3.3333333333333335"
      ]
     },
     "metadata": {},
     "execution_count": 4
    }
   ],
   "source": [
    "10 / 3"
   ]
  },
  {
   "cell_type": "code",
   "execution_count": 5,
   "metadata": {},
   "outputs": [
    {
     "output_type": "execute_result",
     "data": {
      "text/plain": [
       "3"
      ]
     },
     "metadata": {},
     "execution_count": 5
    }
   ],
   "source": [
    "10 // 3"
   ]
  },
  {
   "cell_type": "code",
   "execution_count": 1,
   "metadata": {},
   "outputs": [
    {
     "output_type": "stream",
     "name": "stdout",
     "text": [
      "C:\new\new\new\n"
     ]
    }
   ],
   "source": [
    "# \\t tabulator\n",
    "# \\n nowa linia\n",
    "\n",
    "print('C:\\new\\new\\new')"
   ]
  },
  {
   "cell_type": "code",
   "execution_count": 2,
   "metadata": {},
   "outputs": [
    {
     "output_type": "stream",
     "name": "stdout",
     "text": [
      "C:\\new\\new\\new\n"
     ]
    }
   ],
   "source": [
    "print(r'C:\\new\\new\\new') # r to row text ignoruje znaki specjalne\n"
   ]
  },
  {
   "cell_type": "code",
   "execution_count": 4,
   "metadata": {},
   "outputs": [
    {
     "output_type": "execute_result",
     "data": {
      "text/plain": [
       "'c:\\\\DANE\\\\PYTHON\\\\python_course'"
      ]
     },
     "metadata": {},
     "execution_count": 4
    }
   ],
   "source": [
    "import os\n",
    "os.getcwd()"
   ]
  },
  {
   "cell_type": "code",
   "execution_count": 5,
   "metadata": {},
   "outputs": [
    {
     "output_type": "stream",
     "name": "stdout",
     "text": [
      "\nInstrukcja  uruchamiania pliku przyklad.py\n\n    --file [nazwa pliku]\n        zapisuje output do pliku\n\n    --quiet\n        wycisza logi w konsoli\n\n    \nKoniec.\n\n"
     ]
    }
   ],
   "source": [
    "print('''\n",
    "Instrukcja  uruchamiania pliku przyklad.py\n",
    "\n",
    "    --file [nazwa pliku]\n",
    "        zapisuje output do pliku\n",
    "\n",
    "    --quiet\n",
    "        wycisza logi w konsoli\n",
    "\n",
    "    \n",
    "Koniec.\n",
    "''')"
   ]
  },
  {
   "cell_type": "code",
   "execution_count": 9,
   "metadata": {},
   "outputs": [
    {
     "output_type": "stream",
     "name": "stdout",
     "text": [
      "I love python. \nI love python. I love python. I love python. \n"
     ]
    }
   ],
   "source": [
    "text = 'I love python. '\n",
    "print(text)\n",
    "print(text * 3)"
   ]
  },
  {
   "cell_type": "code",
   "execution_count": 11,
   "metadata": {},
   "outputs": [
    {
     "output_type": "stream",
     "name": "stdout",
     "text": [
      "tekst tekst tekst tekst tekst \n"
     ]
    }
   ],
   "source": [
    "print('tekst ' * 5)"
   ]
  },
  {
   "cell_type": "code",
   "execution_count": 15,
   "metadata": {},
   "outputs": [
    {
     "output_type": "execute_result",
     "data": {
      "text/plain": [
       "'Python'"
      ]
     },
     "metadata": {},
     "execution_count": 15
    }
   ],
   "source": [
    "'Python'\n",
    "'Pyt' 'hon' ## domyślnie sklejone"
   ]
  },
  {
   "cell_type": "code",
   "execution_count": 16,
   "metadata": {},
   "outputs": [
    {
     "output_type": "execute_result",
     "data": {
      "text/plain": [
       "'https://www.udemy.com/course/programowanie-w-jezyku-python/learn/lecture/15714542?start=30#questions'"
      ]
     },
     "metadata": {},
     "execution_count": 16
    }
   ],
   "source": [
    "url = 'https://www.udemy.com/course/programowanie-w-jezyku-python/learn/lecture/15714542?start=30#questions'"
   ]
  },
  {
   "cell_type": "code",
   "execution_count": 17,
   "metadata": {},
   "outputs": [
    {
     "output_type": "stream",
     "name": "stdout",
     "text": [
      "Python\n"
     ]
    }
   ],
   "source": [
    "name = 'Python'\n",
    "print(name)"
   ]
  },
  {
   "cell_type": "code",
   "execution_count": 21,
   "metadata": {},
   "outputs": [
    {
     "output_type": "stream",
     "name": "stdout",
     "text": [
      "Python3.5\nPython 3,5\n"
     ]
    }
   ],
   "source": [
    "print(name + '3.5')\n",
    "print(name, '3,5')"
   ]
  },
  {
   "cell_type": "code",
   "execution_count": 24,
   "metadata": {},
   "outputs": [
    {
     "output_type": "stream",
     "name": "stdout",
     "text": [
      "Mąciej 27\n"
     ]
    }
   ],
   "source": [
    "age = 27\n",
    "imie = 'Mąciej'\n",
    "\n",
    "print(imie, str(age))"
   ]
  },
  {
   "cell_type": "code",
   "execution_count": 31,
   "metadata": {},
   "outputs": [
    {
     "output_type": "stream",
     "name": "stdout",
     "text": [
      "Mąciej ma 27 lat\nMąciej ma 27 lat\n27 ma Mąciej lat\n"
     ]
    }
   ],
   "source": [
    "print('{} ma {} lat'.format(imie,age))\n",
    "print('{0} ma {1} lat'.format(imie,age))\n",
    "print('{1} ma {0} lat'.format(imie,age))\n",
    "\n"
   ]
  },
  {
   "cell_type": "code",
   "execution_count": 1,
   "metadata": {},
   "outputs": [
    {
     "output_type": "stream",
     "name": "stdout",
     "text": [
      "40\n"
     ]
    }
   ],
   "source": [
    "saldo = 40\n",
    "print(saldo)"
   ]
  },
  {
   "cell_type": "code",
   "execution_count": 4,
   "metadata": {},
   "outputs": [
    {
     "output_type": "execute_result",
     "data": {
      "text/plain": [
       "1040.0"
      ]
     },
     "metadata": {},
     "execution_count": 4
    }
   ],
   "source": [
    "saldo = saldo + 10\n",
    "saldo += 10\n",
    "\n",
    "lokata = 1000\n",
    "czynnik_akumulacyjny = 1 + 0.04\n",
    "\n",
    "lokata_po_roku = lokata * czynnik_akumulacyjny\n",
    "lokata_po_roku"
   ]
  },
  {
   "cell_type": "code",
   "execution_count": 8,
   "metadata": {},
   "outputs": [
    {
     "output_type": "stream",
     "name": "stdout",
     "text": [
      "0.5882352941176471\n"
     ]
    }
   ],
   "source": [
    "pixel = 150\n",
    "pixel /= 255\n",
    "print(pixel)"
   ]
  },
  {
   "cell_type": "code",
   "execution_count": 6,
   "metadata": {},
   "outputs": [
    {
     "output_type": "stream",
     "name": "stdout",
     "text": [
      "32\n"
     ]
    }
   ],
   "source": [
    "base = 2\n",
    "base **= 5\n",
    "print(base)"
   ]
  },
  {
   "cell_type": "code",
   "execution_count": 12,
   "metadata": {},
   "outputs": [],
   "source": [
    "imie = 'Maciej'\n",
    "nazwisko = 'Światek'\n",
    "\n",
    "imie += nazwisko\n",
    "\n"
   ]
  },
  {
   "cell_type": "code",
   "execution_count": null,
   "metadata": {},
   "outputs": [],
   "source": []
  }
 ]
}